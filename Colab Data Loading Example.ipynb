{
 "cells": [
  {
   "cell_type": "markdown",
   "metadata": {},
   "source": [
    "# Example Project Notebook"
   ]
  },
  {
   "cell_type": "markdown",
   "metadata": {},
   "source": [
    "There are only 2 accepted ways to load data for your project, from a cloud service or Google drive.  If you load data from a cloud service like github, you don't have to follow this format. Keep in mind that the graders do not expect to have to perform any manual steps to load your data from a cloud service.  If we don't see these cells at the start of your notebook, we will assume you are loading your data from a cloud service.<br>\n",
    "If you are loading data through Google drive, the following cells must be at the start of your notebook.  The naming scheme that we are requiring teams to use will allow us to run your code without having to modify your code."
   ]
  },
  {
   "cell_type": "code",
   "execution_count": null,
   "metadata": {},
   "outputs": [],
   "source": [
    "# The first code cell of your notebook shall include all needed imports to run your project code.  Note that\n",
    "# there can be markdown cells above this cell.\n",
    "import pandas as pd"
   ]
  },
  {
   "cell_type": "code",
   "execution_count": null,
   "metadata": {},
   "outputs": [],
   "source": [
    "# All data files shall be located in the following directory on \n",
    "# your google drive: /content/drive/My Drive/ist718_data/data_groupN\n",
    "\n",
    "# The following provides 2 example file names and their full path names.  This example assumes the assigned\n",
    "# group name is group12.  The definitions in this cell must be used to load all data files.\n",
    "# This is only an example, change these definitions to match your file names.\n",
    "car_data_csv = '/content/drive/My Drive/ist718_data/data_group12/car_data.csv'\n",
    "engine_data_csv = '/content/drive/My Drive/ist718_data/data_group12/engine_data.csv'"
   ]
  },
  {
   "cell_type": "code",
   "execution_count": null,
   "metadata": {},
   "outputs": [],
   "source": [
    "# The third code cell of your notebook must contain code to mount your google drive and load the data files\n",
    "from google.colab import drive\n",
    "drive.mount('/content/drive')\n",
    "\n",
    "# You must use the definitions above to load your data.\n",
    "car_df = pd.read_csv(car_data_csv)\n",
    "engine_df = pd.read_csv(engine_data_csv)"
   ]
  },
  {
   "cell_type": "code",
   "execution_count": 1,
   "metadata": {},
   "outputs": [],
   "source": [
    "# Other code or markdown cells follow ..."
   ]
  }
 ],
 "metadata": {
  "kernelspec": {
   "display_name": "Python 3",
   "language": "python",
   "name": "python3"
  },
  "language_info": {
   "codemirror_mode": {
    "name": "ipython",
    "version": 3
   },
   "file_extension": ".py",
   "mimetype": "text/x-python",
   "name": "python",
   "nbconvert_exporter": "python",
   "pygments_lexer": "ipython3",
   "version": "3.6.11"
  }
 },
 "nbformat": 4,
 "nbformat_minor": 4
}
