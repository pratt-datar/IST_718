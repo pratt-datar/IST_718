{
  "nbformat": 4,
  "nbformat_minor": 0,
  "metadata": {
    "colab": {
      "name": "IST718 - Final project - Data preparation.ipynb",
      "provenance": [],
      "collapsed_sections": []
    },
    "kernelspec": {
      "name": "python3",
      "display_name": "Python 3"
    }
  },
  "cells": [
    {
      "cell_type": "code",
      "metadata": {
        "id": "BbhTYc0vxOrG",
        "outputId": "69a58114-43eb-427f-8b5c-d286fcf75867",
        "colab": {
          "base_uri": "https://localhost:8080/"
        }
      },
      "source": [
        "!pip install pyspark\n",
        "%matplotlib inline\n",
        "from pyspark.sql import SparkSession\n",
        "from pyspark.sql import SQLContext\n",
        "spark = SparkSession.builder.getOrCreate()\n",
        "sc = spark.sparkContext\n",
        "sqlContext = SQLContext(sc)\n",
        "import pandas as pd"
      ],
      "execution_count": 1,
      "outputs": [
        {
          "output_type": "stream",
          "text": [
            "Collecting pyspark\n",
            "\u001b[?25l  Downloading https://files.pythonhosted.org/packages/f0/26/198fc8c0b98580f617cb03cb298c6056587b8f0447e20fa40c5b634ced77/pyspark-3.0.1.tar.gz (204.2MB)\n",
            "\u001b[K     |████████████████████████████████| 204.2MB 64kB/s \n",
            "\u001b[?25hCollecting py4j==0.10.9\n",
            "\u001b[?25l  Downloading https://files.pythonhosted.org/packages/9e/b6/6a4fb90cd235dc8e265a6a2067f2a2c99f0d91787f06aca4bcf7c23f3f80/py4j-0.10.9-py2.py3-none-any.whl (198kB)\n",
            "\u001b[K     |████████████████████████████████| 204kB 35.7MB/s \n",
            "\u001b[?25hBuilding wheels for collected packages: pyspark\n",
            "  Building wheel for pyspark (setup.py) ... \u001b[?25l\u001b[?25hdone\n",
            "  Created wheel for pyspark: filename=pyspark-3.0.1-py2.py3-none-any.whl size=204612243 sha256=8bbbfbb6d44aca4a9405e9a9cdfedf193286c17bfa980268554e5659b2ccf221\n",
            "  Stored in directory: /root/.cache/pip/wheels/5e/bd/07/031766ca628adec8435bb40f0bd83bb676ce65ff4007f8e73f\n",
            "Successfully built pyspark\n",
            "Installing collected packages: py4j, pyspark\n",
            "Successfully installed py4j-0.10.9 pyspark-3.0.1\n"
          ],
          "name": "stdout"
        }
      ]
    },
    {
      "cell_type": "code",
      "metadata": {
        "id": "zKSNX33lHcYV",
        "outputId": "5617a3f6-3db4-4a32-8ff2-91c86c758237",
        "colab": {
          "base_uri": "https://localhost:8080/",
          "height": 419
        }
      },
      "source": [
        "import pandas as pd\n",
        "before = pd.read_csv(\"tweets.csv\")\n",
        "before"
      ],
      "execution_count": 25,
      "outputs": [
        {
          "output_type": "execute_result",
          "data": {
            "text/html": [
              "<div>\n",
              "<style scoped>\n",
              "    .dataframe tbody tr th:only-of-type {\n",
              "        vertical-align: middle;\n",
              "    }\n",
              "\n",
              "    .dataframe tbody tr th {\n",
              "        vertical-align: top;\n",
              "    }\n",
              "\n",
              "    .dataframe thead th {\n",
              "        text-align: right;\n",
              "    }\n",
              "</style>\n",
              "<table border=\"1\" class=\"dataframe\">\n",
              "  <thead>\n",
              "    <tr style=\"text-align: right;\">\n",
              "      <th></th>\n",
              "      <th>user</th>\n",
              "      <th>id</th>\n",
              "      <th>location</th>\n",
              "      <th>date</th>\n",
              "      <th>favourites_count</th>\n",
              "      <th>text</th>\n",
              "      <th>retweet</th>\n",
              "    </tr>\n",
              "  </thead>\n",
              "  <tbody>\n",
              "    <tr>\n",
              "      <th>0</th>\n",
              "      <td>PatsFan876</td>\n",
              "      <td>2.999235e+09</td>\n",
              "      <td>NaN</td>\n",
              "      <td>42030</td>\n",
              "      <td>359685</td>\n",
              "      <td>Busting stereotypes here... I'm a truck drivin...</td>\n",
              "      <td>True</td>\n",
              "    </tr>\n",
              "    <tr>\n",
              "      <th>1</th>\n",
              "      <td>Yasu_Al_Masih</td>\n",
              "      <td>8.830000e+17</td>\n",
              "      <td>Nazareth</td>\n",
              "      <td>42923</td>\n",
              "      <td>15736</td>\n",
              "      <td>I COULDN'T RESIST POSTING THIS ONE!🤣😂🤣😂🤣🤣🤣 🤦‍♀...</td>\n",
              "      <td>True</td>\n",
              "    </tr>\n",
              "    <tr>\n",
              "      <th>2</th>\n",
              "      <td>JBK11</td>\n",
              "      <td>1.503627e+07</td>\n",
              "      <td>Canada</td>\n",
              "      <td>39606</td>\n",
              "      <td>43347</td>\n",
              "      <td>Busting stereotypes here... I'm a truck drivin...</td>\n",
              "      <td>True</td>\n",
              "    </tr>\n",
              "    <tr>\n",
              "      <th>3</th>\n",
              "      <td>SoyElG</td>\n",
              "      <td>3.209835e+07</td>\n",
              "      <td>NaN</td>\n",
              "      <td>39919</td>\n",
              "      <td>432</td>\n",
              "      <td>The dismissive hand wave is what’s most disres...</td>\n",
              "      <td>False</td>\n",
              "    </tr>\n",
              "    <tr>\n",
              "      <th>4</th>\n",
              "      <td>cynthianatalie</td>\n",
              "      <td>2.110394e+07</td>\n",
              "      <td>Los Angeles</td>\n",
              "      <td>39861</td>\n",
              "      <td>4952</td>\n",
              "      <td>Inside #DonaldTrump's \"serial bad behavior\" at...</td>\n",
              "      <td>True</td>\n",
              "    </tr>\n",
              "    <tr>\n",
              "      <th>...</th>\n",
              "      <td>...</td>\n",
              "      <td>...</td>\n",
              "      <td>...</td>\n",
              "      <td>...</td>\n",
              "      <td>...</td>\n",
              "      <td>...</td>\n",
              "      <td>...</td>\n",
              "    </tr>\n",
              "    <tr>\n",
              "      <th>97195</th>\n",
              "      <td>Kimberl93935319</td>\n",
              "      <td>9.230000e+17</td>\n",
              "      <td>NaN</td>\n",
              "      <td>43032</td>\n",
              "      <td>14605</td>\n",
              "      <td>@Amy_Siskind #DEMFOCUS2020 We need to focus re...</td>\n",
              "      <td>True</td>\n",
              "    </tr>\n",
              "    <tr>\n",
              "      <th>97196</th>\n",
              "      <td>sharknadoalert</td>\n",
              "      <td>1.280000e+18</td>\n",
              "      <td>NaN</td>\n",
              "      <td>44028</td>\n",
              "      <td>6375</td>\n",
              "      <td>\"Missed opportunities add up to a losing strat...</td>\n",
              "      <td>True</td>\n",
              "    </tr>\n",
              "    <tr>\n",
              "      <th>97197</th>\n",
              "      <td>BereniceJB_</td>\n",
              "      <td>4.312218e+08</td>\n",
              "      <td>Orange County</td>\n",
              "      <td>40885</td>\n",
              "      <td>29087</td>\n",
              "      <td>The Gun Lobby is calling on voters to vote for...</td>\n",
              "      <td>True</td>\n",
              "    </tr>\n",
              "    <tr>\n",
              "      <th>97198</th>\n",
              "      <td>1989Mckoy</td>\n",
              "      <td>8.440000e+17</td>\n",
              "      <td>NaN</td>\n",
              "      <td>42816</td>\n",
              "      <td>135684</td>\n",
              "      <td>Please vote #registertovote if you have yet to...</td>\n",
              "      <td>False</td>\n",
              "    </tr>\n",
              "    <tr>\n",
              "      <th>97199</th>\n",
              "      <td>davescar1</td>\n",
              "      <td>5.778776e+07</td>\n",
              "      <td>Spanish Fork, UT</td>\n",
              "      <td>40011</td>\n",
              "      <td>74464</td>\n",
              "      <td>@njlang4 @ACTBrigitte The president was amazin...</td>\n",
              "      <td>True</td>\n",
              "    </tr>\n",
              "  </tbody>\n",
              "</table>\n",
              "<p>97200 rows × 7 columns</p>\n",
              "</div>"
            ],
            "text/plain": [
              "                  user  ...  retweet\n",
              "0           PatsFan876  ...     True\n",
              "1        Yasu_Al_Masih  ...     True\n",
              "2                JBK11  ...     True\n",
              "3               SoyElG  ...    False\n",
              "4       cynthianatalie  ...     True\n",
              "...                ...  ...      ...\n",
              "97195  Kimberl93935319  ...     True\n",
              "97196   sharknadoalert  ...     True\n",
              "97197      BereniceJB_  ...     True\n",
              "97198        1989Mckoy  ...    False\n",
              "97199        davescar1  ...     True\n",
              "\n",
              "[97200 rows x 7 columns]"
            ]
          },
          "metadata": {
            "tags": []
          },
          "execution_count": 25
        }
      ]
    },
    {
      "cell_type": "code",
      "metadata": {
        "id": "7z7Z5XWTTy6t",
        "outputId": "c9b9f2a8-8058-4fa1-eb10-47e20068b9a5",
        "colab": {
          "base_uri": "https://localhost:8080/"
        }
      },
      "source": [
        "before.dtypes"
      ],
      "execution_count": 26,
      "outputs": [
        {
          "output_type": "execute_result",
          "data": {
            "text/plain": [
              "user                 object\n",
              "id                  float64\n",
              "location             object\n",
              "date                  int64\n",
              "favourites_count      int64\n",
              "text                 object\n",
              "retweet                bool\n",
              "dtype: object"
            ]
          },
          "metadata": {
            "tags": []
          },
          "execution_count": 26
        }
      ]
    },
    {
      "cell_type": "code",
      "metadata": {
        "id": "UynZzUSfyM4V",
        "outputId": "0017507a-8655-4c77-a3c8-58fb1e9b68db",
        "colab": {
          "base_uri": "https://localhost:8080/"
        }
      },
      "source": [
        "# Pandas to Spark\n",
        "from pyspark.sql.types import *\n",
        "# mySchema=StructType([StructField(\"Country\", StringType())\\\n",
        "#                       ,StructField(\"Org\", StringType())])\n",
        "\n",
        "mySchema = StructType([StructField(\"user\", StringType())\\\n",
        "                      ,StructField(\"id\", FloatType())\\\n",
        "                      ,StructField(\"location\", StringType())\\\n",
        "                      ,StructField(\"date\", IntegerType())\\\n",
        "                      ,StructField(\"favourites_count\", StringType())\\\n",
        "                      ,StructField(\"text\", StringType())\\\n",
        "                      ,StructField(\"retweet\", StringType())])\n",
        "df_before = spark.createDataFrame(before,schema=mySchema)\n",
        "df_before.show()"
      ],
      "execution_count": 27,
      "outputs": [
        {
          "output_type": "stream",
          "text": [
            "+---------------+-------------+--------------------+-----+----------------+--------------------+-------+\n",
            "|           user|           id|            location| date|favourites_count|                text|retweet|\n",
            "+---------------+-------------+--------------------+-----+----------------+--------------------+-------+\n",
            "|     PatsFan876| 2.99923456E9|                 NaN|42030|          359685|Busting stereotyp...|   true|\n",
            "|  Yasu_Al_Masih| 8.8299999E17|            Nazareth|42923|           15736|I COULDN'T RESIST...|   true|\n",
            "|          JBK11|  1.5036271E7|              Canada|39606|           43347|Busting stereotyp...|   true|\n",
            "|         SoyElG|  3.2098352E7|                 NaN|39919|             432|The dismissive ha...|  false|\n",
            "| cynthianatalie|  2.1103938E7|         Los Angeles|39861|            4952|Inside #DonaldTru...|   true|\n",
            "|  jaynemikulski|  7.1986381E8| Western Springs, IL|41564|          103327|Is #DonaldTrump a...|   true|\n",
            "|       Shrinki2|1.21999996E18|     United States, |43854|            2543|@JenniferJJacobs ...|  false|\n",
            "|         xizzhu|  1.5253278E7|       United States|39626|           11098|@jack @nypost You...|  false|\n",
            "|   tmihollywood|  7.5029587E8|Hollywood, Califo...|41132|            1162|Full #show on htt...|  false|\n",
            "|   TymberDalton|  1.9447498E7| Dagnabbit, Florida!|39837|          154155|Inside #DonaldTru...|   true|\n",
            "|   PhilthyLando|  8.3262528E7|Cave Creek, AZ Or...|40104|            6647|#AmyConeyBarrett ...|  false|\n",
            "|  roripierpont1|      7.08E17|                 NaN|42439|          755982|Inside #DonaldTru...|   true|\n",
            "|        ret_cw3|  1.8868356E7|AZ, MI (Deutschla...|39824|          229059|Busting stereotyp...|   true|\n",
            "|DickYoungsGhost|  4.1751696E8|          My America|40868|           24900|Inside #DonaldTru...|   true|\n",
            "|     martymar_1|   3.142076E7|                 NaN|39918|           13109|@realDonaldTrump ...|  false|\n",
            "|peaceandteachin| 9.4999997E17|                 NaN|43106|          133248|#DonaldTrump’s SA...|   true|\n",
            "|SuperWoman26245| 7.0199997E17|     California, USA|42422|           55165|@meiselasb @gtcon...|  false|\n",
            "| QueenPeace2017| 8.2099997E17|        Georgia, USA|42751|           41177|1/  THREAD: Body ...|   true|\n",
            "|    andrewpward|  1.4351438E7|     New Orleans, LA|39548|            2973|Inside #DonaldTru...|   true|\n",
            "|kirstinestewart|  2.4235944E8|  So many airplanes |40567|          139463|Inside #DonaldTru...|   true|\n",
            "+---------------+-------------+--------------------+-----+----------------+--------------------+-------+\n",
            "only showing top 20 rows\n",
            "\n"
          ],
          "name": "stdout"
        }
      ]
    },
    {
      "cell_type": "code",
      "metadata": {
        "id": "qVUopS-vJ3k9",
        "outputId": "99f173a1-7bfd-446a-88ed-2d25316bf098",
        "colab": {
          "base_uri": "https://localhost:8080/"
        }
      },
      "source": [
        "df_before.count()"
      ],
      "execution_count": 28,
      "outputs": [
        {
          "output_type": "execute_result",
          "data": {
            "text/plain": [
              "97200"
            ]
          },
          "metadata": {
            "tags": []
          },
          "execution_count": 28
        }
      ]
    },
    {
      "cell_type": "code",
      "metadata": {
        "id": "7f-mbvZNYrva"
      },
      "source": [
        "# drop columns\n",
        "df_before = df_before.drop('id', 'date')\n",
        "# change the data type\n",
        "df_before = df_before.withColumn(\"favourites_count\", df_before['favourites_count'].cast(IntegerType()))\n",
        "# # drop rows which tweet is retweet\n",
        "df_before = df_before.filter(df_before['retweet'] == 'false')"
      ],
      "execution_count": 29,
      "outputs": []
    },
    {
      "cell_type": "code",
      "metadata": {
        "id": "qjvL3alAocmS",
        "outputId": "112fbb56-871d-4cc1-8883-ff2c39b670fc",
        "colab": {
          "base_uri": "https://localhost:8080/"
        }
      },
      "source": [
        "# check if there are duplicate rows\n",
        "if df_before.distinct().count() != df_before.count():\n",
        "  print('There are duplicate rows.')\n",
        "else:\n",
        "  print('No duplicated.')"
      ],
      "execution_count": 31,
      "outputs": [
        {
          "output_type": "stream",
          "text": [
            "There are duplicate rows.\n"
          ],
          "name": "stdout"
        }
      ]
    },
    {
      "cell_type": "code",
      "metadata": {
        "id": "W0ZwkuaJnUcX",
        "outputId": "fc84569c-cd14-4cdc-eb45-1bcc6ea55c4a",
        "colab": {
          "base_uri": "https://localhost:8080/"
        }
      },
      "source": [
        "# remove duplicate rows\n",
        "df_before = df_before.dropDuplicates()\n",
        "df_before.count()"
      ],
      "execution_count": 32,
      "outputs": [
        {
          "output_type": "execute_result",
          "data": {
            "text/plain": [
              "22987"
            ]
          },
          "metadata": {
            "tags": []
          },
          "execution_count": 32
        }
      ]
    },
    {
      "cell_type": "code",
      "metadata": {
        "id": "7M1P6QoIZEdB",
        "outputId": "a597c2c0-15ff-4162-b18e-df002942bd92",
        "colab": {
          "base_uri": "https://localhost:8080/"
        }
      },
      "source": [
        "df_before.show(4)"
      ],
      "execution_count": 36,
      "outputs": [
        {
          "output_type": "stream",
          "text": [
            "+---------------+--------------------+----------------+--------------------+-------+--------------------+\n",
            "|           user|            location|favourites_count|                text|retweet|            hashtage|\n",
            "+---------------+--------------------+----------------+--------------------+-------+--------------------+\n",
            "|    TerinaKelso|Jacksonville, Flo...|            1865|SAY IT AGAIN FOR ...|  false|[#trump, #maga, #...|\n",
            "| BadTasteMedia7|      Snellville, Ga|               2|I appreciate Chri...|  false|[#badtastemedia, ...|\n",
            "|Horizonshealth2|                 NaN|              28|FOODS THAT MAKE Y...|  false|[#DonaldTrump, #T...|\n",
            "|  maskshirt2021|                 NaN|             125|Without a mask he...|  false|[#COVIDIOTS, #Don...|\n",
            "+---------------+--------------------+----------------+--------------------+-------+--------------------+\n",
            "only showing top 4 rows\n",
            "\n"
          ],
          "name": "stdout"
        }
      ]
    },
    {
      "cell_type": "code",
      "metadata": {
        "id": "eERbc_JzegYG"
      },
      "source": [
        "# extract the hashtage\n",
        "import re\n",
        "#extracting hashtags as a means of possible cluster validation  \n",
        "def extraxt_hashtags(text):\n",
        "  hashtags = re.findall(r'\\B#\\w*[a-zA-Z]+\\w*', text)\n",
        "  return hashtags"
      ],
      "execution_count": 37,
      "outputs": []
    },
    {
      "cell_type": "code",
      "metadata": {
        "id": "WPKzvDqfejWT"
      },
      "source": [
        "from pyspark.sql.functions import udf, expr, concat, col\n",
        "from pyspark.sql import types\n",
        "func_hash = udf(extraxt_hashtags, types.StringType())\n",
        "df_before = df_before.withColumn(\"hashtage\", func_hash(\"text\"))"
      ],
      "execution_count": 38,
      "outputs": []
    },
    {
      "cell_type": "code",
      "metadata": {
        "id": "f5feqBOtefHT"
      },
      "source": [
        "# clean tweet\n",
        "from string import punctuation\n",
        "def clean_tweet(tweet):\n",
        "    # Remove hyperlinks\n",
        "    tweet = re.sub(\"https?://[A-Za-z0-9./]*\",\"\",tweet)\n",
        "    # Remove hashtags\n",
        "    tweet = re.sub(r'#\\w*', '', tweet)\n",
        "    # Remove tickers\n",
        "    tweet = re.sub(r'\\$\\w*', '', tweet)\n",
        "    #@user -> at_user\n",
        "    tweet = re.sub(\"@[\\w]*\",\"\",tweet)\n",
        "    # To lowercase\n",
        "    tweet = tweet.lower()\n",
        "    # Remove Punctuation and split 's, 't, 've with a space for filter\n",
        "    tweet = re.sub(r'[' + punctuation.replace('@', '') + ']+', ' ', tweet)\n",
        "    # Remove words: I, a , am, me (2 or less letters)\n",
        "    tweet = re.sub(r'\\b\\w{1,2}\\b', '', tweet)\n",
        "    # Remove whitespace (including new line characters)\n",
        "    tweet = re.sub(r'\\s\\s+', ' ', tweet)\n",
        "    # Remove single space remaining at the front of the tweet.\n",
        "    tweet = tweet.lstrip(' ') \n",
        "    # Remove emojis or other. special characters\n",
        "    tweet = ''.join(c for c in tweet if c <= '\\uFFFF') \n",
        "    return tweet  "
      ],
      "execution_count": 39,
      "outputs": []
    },
    {
      "cell_type": "code",
      "metadata": {
        "id": "87JJh7NIjoNg"
      },
      "source": [
        "func_clean = udf(clean_tweet, types.StringType())\n",
        "df_before = df_before.withColumn(\"clean_text\", func_clean(\"text\"))"
      ],
      "execution_count": 40,
      "outputs": []
    },
    {
      "cell_type": "code",
      "metadata": {
        "id": "HJR0W0SmtGQr"
      },
      "source": [
        "from pyspark.ml.feature import Tokenizer\n",
        "from pyspark.ml.feature import StopWordsRemover\n",
        "from pyspark.ml.feature import IDF\n",
        "import requests\n",
        "from pyspark.ml import Pipeline\n",
        "from pyspark.ml.feature import CountVectorizer\n",
        "\n",
        "tokenizer = Tokenizer()\\\n",
        "  .setInputCol(\"clean_text\")\\\n",
        "  .setOutputCol(\"words\")\n",
        "\n",
        "# stopwords object\n",
        "# we obtain the stop words from a website\n",
        "stop_words = requests.get('http://ir.dcs.gla.ac.uk/resources/linguistic_utils/stop_words').text.split()\n",
        "stop_words[0:10]\n",
        "sw_filter = StopWordsRemover()\\\n",
        "\\\n",
        "  .setStopWords(stop_words)\\\n",
        "  .setCaseSensitive(False)\\\n",
        "  .setInputCol(\"words\")\\\n",
        "  .setOutputCol(\"filtered\")\n",
        "\n",
        "# we will remove words that appear in 5 docs or less\n",
        "cv = CountVectorizer()\\\n",
        "  .setInputCol(\"filtered\")\\\n",
        "  .setOutputCol(\"tf\")\n",
        "\n",
        "# TF-IDF object\n",
        "idf = IDF().\\\n",
        "    setInputCol('tf').\\\n",
        "    setOutputCol('tfidf')\n",
        "\n",
        "# build the pipeline\n",
        "pipe1 = Pipeline(stages=[tokenizer, sw_filter, cv]).fit(df_before)\n",
        "tweets_pipe = Pipeline(stages=[pipe1, idf]).fit(df_before)"
      ],
      "execution_count": 41,
      "outputs": []
    },
    {
      "cell_type": "code",
      "metadata": {
        "id": "t7_KdhOvkRxE"
      },
      "source": [
        "tweets_before = tweets_pipe.transform(df_before)"
      ],
      "execution_count": 42,
      "outputs": []
    },
    {
      "cell_type": "code",
      "metadata": {
        "id": "yVtj850DhBOB",
        "outputId": "2e4e87cd-6616-4944-b1ac-e0a145081e0f",
        "colab": {
          "base_uri": "https://localhost:8080/"
        }
      },
      "source": [
        "tweets_before.show(4)"
      ],
      "execution_count": 43,
      "outputs": [
        {
          "output_type": "stream",
          "text": [
            "+---------------+--------------------+----------------+--------------------+-------+--------------------+--------------------+--------------------+--------------------+--------------------+--------------------+\n",
            "|           user|            location|favourites_count|                text|retweet|            hashtage|          clean_text|               words|            filtered|                  tf|               tfidf|\n",
            "+---------------+--------------------+----------------+--------------------+-------+--------------------+--------------------+--------------------+--------------------+--------------------+--------------------+\n",
            "|    TerinaKelso|Jacksonville, Flo...|            1865|SAY IT AGAIN FOR ...|  false|[#trump, #maga, #...|say again for the...|[say, again, for,...|  [say, people, row]|(20493,[9,50,3189...|(20493,[9,50,3189...|\n",
            "| BadTasteMedia7|      Snellville, Ga|               2|I appreciate Chri...|  false|[#badtastemedia, ...|appreciate christ...|[appreciate, chri...|[appreciate, chri...|(20493,[8,29,45,5...|(20493,[8,29,45,5...|\n",
            "|Horizonshealth2|                 NaN|              28|FOODS THAT MAKE Y...|  false|[#DonaldTrump, #T...|foods that make y...|[foods, that, mak...|[foods, make, sle...|(20493,[21,798,80...|(20493,[21,798,80...|\n",
            "|  maskshirt2021|                 NaN|             125|Without a mask he...|  false|[#COVIDIOTS, #Don...|without mask stan...|[without, mask, s...|[mask, standing, ...|(20493,[1,10,11,3...|(20493,[1,10,11,3...|\n",
            "+---------------+--------------------+----------------+--------------------+-------+--------------------+--------------------+--------------------+--------------------+--------------------+--------------------+\n",
            "only showing top 4 rows\n",
            "\n"
          ],
          "name": "stdout"
        }
      ]
    },
    {
      "cell_type": "code",
      "metadata": {
        "id": "59uKHqUioUwx"
      },
      "source": [
        "tweets_before.toPandas().to_csv('before.csv')"
      ],
      "execution_count": 44,
      "outputs": []
    },
    {
      "cell_type": "markdown",
      "metadata": {
        "id": "qF-gJDQihEsO"
      },
      "source": [
        "## After"
      ]
    },
    {
      "cell_type": "code",
      "metadata": {
        "id": "-6dQ_RQfpc2e",
        "outputId": "49677b45-50fa-464c-9da1-b2ab55cd1cc5",
        "colab": {
          "base_uri": "https://localhost:8080/",
          "height": 419
        }
      },
      "source": [
        "df_after = pd.read_csv(\"tweet_after.csv\")\n",
        "df_after"
      ],
      "execution_count": 47,
      "outputs": [
        {
          "output_type": "execute_result",
          "data": {
            "text/html": [
              "<div>\n",
              "<style scoped>\n",
              "    .dataframe tbody tr th:only-of-type {\n",
              "        vertical-align: middle;\n",
              "    }\n",
              "\n",
              "    .dataframe tbody tr th {\n",
              "        vertical-align: top;\n",
              "    }\n",
              "\n",
              "    .dataframe thead th {\n",
              "        text-align: right;\n",
              "    }\n",
              "</style>\n",
              "<table border=\"1\" class=\"dataframe\">\n",
              "  <thead>\n",
              "    <tr style=\"text-align: right;\">\n",
              "      <th></th>\n",
              "      <th>user</th>\n",
              "      <th>id</th>\n",
              "      <th>location</th>\n",
              "      <th>date</th>\n",
              "      <th>favourites_count</th>\n",
              "      <th>text</th>\n",
              "      <th>retweet</th>\n",
              "    </tr>\n",
              "  </thead>\n",
              "  <tbody>\n",
              "    <tr>\n",
              "      <th>0</th>\n",
              "      <td>Hskers62</td>\n",
              "      <td>9.081270e+17</td>\n",
              "      <td>United States</td>\n",
              "      <td>9/14/17</td>\n",
              "      <td>197954.0</td>\n",
              "      <td>Donald Trump is the only president in history ...</td>\n",
              "      <td>True</td>\n",
              "    </tr>\n",
              "    <tr>\n",
              "      <th>1</th>\n",
              "      <td>JMZJEWELRY</td>\n",
              "      <td>8.826030e+17</td>\n",
              "      <td>Here and there</td>\n",
              "      <td>7/5/17</td>\n",
              "      <td>3652.0</td>\n",
              "      <td>Joe Biden got 306 Electoral College votes by w...</td>\n",
              "      <td>True</td>\n",
              "    </tr>\n",
              "    <tr>\n",
              "      <th>2</th>\n",
              "      <td>lrogers66821</td>\n",
              "      <td>1.004390e+18</td>\n",
              "      <td>Cincinnati, OH</td>\n",
              "      <td>6/6/18</td>\n",
              "      <td>369957.0</td>\n",
              "      <td>Deutsche Bank, which funded Auschwitz, Donald ...</td>\n",
              "      <td>True</td>\n",
              "    </tr>\n",
              "    <tr>\n",
              "      <th>3</th>\n",
              "      <td>LizNYC66</td>\n",
              "      <td>8.927390e+17</td>\n",
              "      <td>Manhattan, NY</td>\n",
              "      <td>8/2/17</td>\n",
              "      <td>33175.0</td>\n",
              "      <td>The Biden administration is sure to come under...</td>\n",
              "      <td>True</td>\n",
              "    </tr>\n",
              "    <tr>\n",
              "      <th>4</th>\n",
              "      <td>thia89837769</td>\n",
              "      <td>1.214570e+18</td>\n",
              "      <td>Ottawa, Ontario</td>\n",
              "      <td>1/7/20</td>\n",
              "      <td>5580.0</td>\n",
              "      <td>Donald Trump is the only president in history ...</td>\n",
              "      <td>True</td>\n",
              "    </tr>\n",
              "    <tr>\n",
              "      <th>...</th>\n",
              "      <td>...</td>\n",
              "      <td>...</td>\n",
              "      <td>...</td>\n",
              "      <td>...</td>\n",
              "      <td>...</td>\n",
              "      <td>...</td>\n",
              "      <td>...</td>\n",
              "    </tr>\n",
              "    <tr>\n",
              "      <th>45389</th>\n",
              "      <td>Richardson9Mike</td>\n",
              "      <td>1.219890e+18</td>\n",
              "      <td>NaN</td>\n",
              "      <td>1/22/20</td>\n",
              "      <td>21.0</td>\n",
              "      <td>Should Nancy go to jail? #Elections2020 #Elect...</td>\n",
              "      <td>False</td>\n",
              "    </tr>\n",
              "    <tr>\n",
              "      <th>45390</th>\n",
              "      <td>suzyqbooks</td>\n",
              "      <td>3.720740e+07</td>\n",
              "      <td>Salt Lake City, UT</td>\n",
              "      <td>5/2/09</td>\n",
              "      <td>8759.0</td>\n",
              "      <td>VOTE UPDATE:\\n\\nGeorgia: Biden +12,337 \\nArizo...</td>\n",
              "      <td>True</td>\n",
              "    </tr>\n",
              "    <tr>\n",
              "      <th>45391</th>\n",
              "      <td>MSZ006FD3S3121</td>\n",
              "      <td>1.041590e+18</td>\n",
              "      <td>NaN</td>\n",
              "      <td>9/17/18</td>\n",
              "      <td>47294.0</td>\n",
              "      <td>VOTE UPDATE:\\n\\nGeorgia: Biden +12,337 \\nArizo...</td>\n",
              "      <td>True</td>\n",
              "    </tr>\n",
              "    <tr>\n",
              "      <th>45392</th>\n",
              "      <td>FjellVeitje</td>\n",
              "      <td>1.297540e+18</td>\n",
              "      <td>Noreg</td>\n",
              "      <td>8/23/20</td>\n",
              "      <td>2731.0</td>\n",
              "      <td>I think this is a vote we all can agree on... ...</td>\n",
              "      <td>True</td>\n",
              "    </tr>\n",
              "    <tr>\n",
              "      <th>45393</th>\n",
              "      <td>LEAP70760991</td>\n",
              "      <td>1.182140e+18</td>\n",
              "      <td>NaN</td>\n",
              "      <td>10/10/19</td>\n",
              "      <td>12.0</td>\n",
              "      <td>Young, intelligent and compassionate American ...</td>\n",
              "      <td>False</td>\n",
              "    </tr>\n",
              "  </tbody>\n",
              "</table>\n",
              "<p>45394 rows × 7 columns</p>\n",
              "</div>"
            ],
            "text/plain": [
              "                  user  ...  retweet\n",
              "0             Hskers62  ...     True\n",
              "1           JMZJEWELRY  ...     True\n",
              "2         lrogers66821  ...     True\n",
              "3             LizNYC66  ...     True\n",
              "4         thia89837769  ...     True\n",
              "...                ...  ...      ...\n",
              "45389  Richardson9Mike  ...    False\n",
              "45390       suzyqbooks  ...     True\n",
              "45391   MSZ006FD3S3121  ...     True\n",
              "45392      FjellVeitje  ...     True\n",
              "45393     LEAP70760991  ...    False\n",
              "\n",
              "[45394 rows x 7 columns]"
            ]
          },
          "metadata": {
            "tags": []
          },
          "execution_count": 47
        }
      ]
    },
    {
      "cell_type": "code",
      "metadata": {
        "id": "Doj2s_bbRrr_",
        "outputId": "8fdedf9f-e7b8-46c1-afbf-6d6ca27d8139",
        "colab": {
          "base_uri": "https://localhost:8080/"
        }
      },
      "source": [
        "df_after.dtypes"
      ],
      "execution_count": 48,
      "outputs": [
        {
          "output_type": "execute_result",
          "data": {
            "text/plain": [
              "user                 object\n",
              "id                  float64\n",
              "location             object\n",
              "date                 object\n",
              "favourites_count    float64\n",
              "text                 object\n",
              "retweet              object\n",
              "dtype: object"
            ]
          },
          "metadata": {
            "tags": []
          },
          "execution_count": 48
        }
      ]
    },
    {
      "cell_type": "code",
      "metadata": {
        "id": "0zsir_JyRcLb",
        "outputId": "2a0c62ec-db86-4387-9510-b11944dc0ad1",
        "colab": {
          "base_uri": "https://localhost:8080/"
        }
      },
      "source": [
        "from pyspark.sql.types import *\n",
        "# mySchema=StructType([StructField(\"Country\", StringType())\\\n",
        "#                       ,StructField(\"Org\", StringType())])\n",
        "\n",
        "mySchema = StructType([StructField(\"user\", StringType())\\\n",
        "                      ,StructField(\"id\", FloatType())\\\n",
        "                      ,StructField(\"location\", StringType())\\\n",
        "                      ,StructField(\"date\", StringType())\\\n",
        "                      ,StructField(\"favourites_count\", StringType())\\\n",
        "                      ,StructField(\"text\", StringType())\\\n",
        "                      ,StructField(\"retweet\", StringType())])\n",
        "tweets_after = spark.createDataFrame(df_after,schema=mySchema)\n",
        "tweets_after.show(5)"
      ],
      "execution_count": 49,
      "outputs": [
        {
          "output_type": "stream",
          "text": [
            "+------------+-------------+---------------+-------+----------------+--------------------+-------+\n",
            "|        user|           id|       location|   date|favourites_count|                text|retweet|\n",
            "+------------+-------------+---------------+-------+----------------+--------------------+-------+\n",
            "|    Hskers62| 9.0812699E17|  United States|9/14/17|        197954.0|Donald Trump is t...|   true|\n",
            "|  JMZJEWELRY|   8.82603E17|Here and there | 7/5/17|          3652.0|Joe Biden got 306...|   true|\n",
            "|lrogers66821|1.00438999E18| Cincinnati, OH| 6/6/18|        369957.0|Deutsche Bank, wh...|   true|\n",
            "|    LizNYC66| 8.9273898E17|  Manhattan, NY| 8/2/17|         33175.0|The Biden adminis...|   true|\n",
            "|thia89837769|1.21457002E18|Ottawa, Ontario| 1/7/20|          5580.0|Donald Trump is t...|   true|\n",
            "+------------+-------------+---------------+-------+----------------+--------------------+-------+\n",
            "only showing top 5 rows\n",
            "\n"
          ],
          "name": "stdout"
        }
      ]
    },
    {
      "cell_type": "code",
      "metadata": {
        "id": "UVhPENH_RzgU",
        "outputId": "4774455e-da2b-4d1e-f5cb-3c6851266ef1",
        "colab": {
          "base_uri": "https://localhost:8080/"
        }
      },
      "source": [
        "tweets_after.count()"
      ],
      "execution_count": 50,
      "outputs": [
        {
          "output_type": "execute_result",
          "data": {
            "text/plain": [
              "45394"
            ]
          },
          "metadata": {
            "tags": []
          },
          "execution_count": 50
        }
      ]
    },
    {
      "cell_type": "code",
      "metadata": {
        "id": "lroLfa3ORlSo"
      },
      "source": [
        "# drop columns\n",
        "tweets_after = tweets_after.drop('id', 'date')\n",
        "# change the data type\n",
        "tweets_after = tweets_after.withColumn(\"favourites_count\", tweets_after['favourites_count'].cast(IntegerType()))\n",
        "# # drop rows which tweet is retweet\n",
        "tweets_after = tweets_after.filter(tweets_after['retweet'] == 'false')"
      ],
      "execution_count": 51,
      "outputs": []
    },
    {
      "cell_type": "code",
      "metadata": {
        "id": "e-hiirprR-7d",
        "outputId": "56ec087e-2217-49a0-ec90-1aea2e5f5308",
        "colab": {
          "base_uri": "https://localhost:8080/"
        }
      },
      "source": [
        "# check if there are duplicate rows\n",
        "if tweets_after.distinct().count() != tweets_after.count():\n",
        "  print('There are duplicate rows.')\n",
        "else:\n",
        "  print('No duplicated.')"
      ],
      "execution_count": 52,
      "outputs": [
        {
          "output_type": "stream",
          "text": [
            "There are duplicate rows.\n"
          ],
          "name": "stdout"
        }
      ]
    },
    {
      "cell_type": "code",
      "metadata": {
        "id": "Lci1yaPjSGTB",
        "outputId": "0ed584f6-0010-4ae3-e721-e51a6a021524",
        "colab": {
          "base_uri": "https://localhost:8080/"
        }
      },
      "source": [
        "# remove duplicate rows\n",
        "tweets_after = tweets_after.dropDuplicates()\n",
        "tweets_after.count()"
      ],
      "execution_count": 53,
      "outputs": [
        {
          "output_type": "execute_result",
          "data": {
            "text/plain": [
              "15860"
            ]
          },
          "metadata": {
            "tags": []
          },
          "execution_count": 53
        }
      ]
    },
    {
      "cell_type": "code",
      "metadata": {
        "id": "mHHJltzxSTvq"
      },
      "source": [
        "tweets_after = tweets_after.withColumn(\"hashtage\", func_hash(\"text\"))"
      ],
      "execution_count": 54,
      "outputs": []
    },
    {
      "cell_type": "code",
      "metadata": {
        "id": "MhHpBIPXSevM"
      },
      "source": [
        "tweets_after = tweets_after.withColumn(\"clean_text\", func_clean(\"text\"))"
      ],
      "execution_count": 55,
      "outputs": []
    },
    {
      "cell_type": "code",
      "metadata": {
        "id": "mjnPv7fISoX3"
      },
      "source": [
        "pipe2 = Pipeline(stages=[tokenizer, sw_filter, cv]).fit(tweets_after)\n",
        "tweets_pipe_2 = Pipeline(stages=[pipe2, idf]).fit(tweets_after)"
      ],
      "execution_count": 56,
      "outputs": []
    },
    {
      "cell_type": "code",
      "metadata": {
        "id": "u-jl1gM5TADm"
      },
      "source": [
        "tweets_after_df = tweets_pipe_2.transform(tweets_after)"
      ],
      "execution_count": 57,
      "outputs": []
    },
    {
      "cell_type": "code",
      "metadata": {
        "id": "2dxRmx7-TON3",
        "outputId": "cb73e587-8c36-4cb5-ef06-260ee2b61934",
        "colab": {
          "base_uri": "https://localhost:8080/"
        }
      },
      "source": [
        "tweets_after_df.show(5)"
      ],
      "execution_count": 58,
      "outputs": [
        {
          "output_type": "stream",
          "text": [
            "+---------------+----------------+----------------+--------------------+-------+------------+--------------------+--------------------+--------------------+--------------------+--------------------+\n",
            "|           user|        location|favourites_count|                text|retweet|    hashtage|          clean_text|               words|            filtered|                  tf|               tfidf|\n",
            "+---------------+----------------+----------------+--------------------+-------+------------+--------------------+--------------------+--------------------+--------------------+--------------------+\n",
            "|nicholasmcardle|White House -TBC|             418|@realDonaldTrump ...|  false|          []|trump english can...|[trump, english, ...|[trump, english, ...|(17372,[0,4,6,10,...|(17372,[0,4,6,10,...|\n",
            "|     seanieinaz|             NaN|              38|@realDonaldTrump ...|  false|          []|can donald trump ...|[can, donald, tru...|[donald, trump, t...|(17372,[0,4,39,64...|(17372,[0,4,39,64...|\n",
            "|    packard1963|  Northumberland|           13002|@KayBurley #mikep...|  false|[#mikepence]|saying more less ...|[saying, more, le...|       [saying, say]|(17372,[52,157],[...|(17372,[52,157],[...|\n",
            "| mikepence_smom|   United States|             801|@MSarelson @Angel...|  false|          []|put his ass jail ...|[put, his, ass, j...|[ass, jail, arres...|(17372,[255,816,1...|(17372,[255,816,1...|\n",
            "| mikepence_smom|   United States|             801|Yeah, Baby https:...|  false|          []|          yeah baby |        [yeah, baby]|        [yeah, baby]|(17372,[560,609],...|(17372,[560,609],...|\n",
            "+---------------+----------------+----------------+--------------------+-------+------------+--------------------+--------------------+--------------------+--------------------+--------------------+\n",
            "only showing top 5 rows\n",
            "\n"
          ],
          "name": "stdout"
        }
      ]
    },
    {
      "cell_type": "code",
      "metadata": {
        "id": "tqnpivQZTZiI"
      },
      "source": [
        "tweets_after_df.toPandas().to_csv('after.csv')"
      ],
      "execution_count": 59,
      "outputs": []
    },
    {
      "cell_type": "code",
      "metadata": {
        "id": "Mi-lKsJETd8Z"
      },
      "source": [
        ""
      ],
      "execution_count": null,
      "outputs": []
    }
  ]
}