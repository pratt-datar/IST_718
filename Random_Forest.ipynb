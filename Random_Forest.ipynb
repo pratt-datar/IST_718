{
  "nbformat": 4,
  "nbformat_minor": 0,
  "metadata": {
    "colab": {
      "name": "Random Forest.ipynb",
      "provenance": [],
      "collapsed_sections": [
        "DjO4ml4MLObH",
        "qF-gJDQihEsO",
        "843LFI_EM1-R",
        "F-E4RXAXM7-b",
        "9UEyNMtdczP_",
        "BZBu-s81IAa8",
        "ZFMPW6BqaAUt",
        "QJFVn6gcZd7n"
      ]
    },
    "kernelspec": {
      "name": "python3",
      "display_name": "Python 3"
    }
  },
  "cells": [
    {
      "cell_type": "code",
      "metadata": {
        "id": "BbhTYc0vxOrG",
        "colab": {
          "base_uri": "https://localhost:8080/"
        },
        "outputId": "d838c39a-fe74-429c-d3fd-315c548d4125"
      },
      "source": [
        "!pip install pyspark\n",
        "%matplotlib inline\n",
        "from pyspark.sql import SparkSession\n",
        "from pyspark.sql import SQLContext\n",
        "spark = SparkSession.builder.getOrCreate()\n",
        "sc = spark.sparkContext\n",
        "sqlContext = SQLContext(sc)\n",
        "import pandas as pd"
      ],
      "execution_count": null,
      "outputs": [
        {
          "output_type": "stream",
          "text": [
            "Collecting pyspark\n",
            "\u001b[?25l  Downloading https://files.pythonhosted.org/packages/f0/26/198fc8c0b98580f617cb03cb298c6056587b8f0447e20fa40c5b634ced77/pyspark-3.0.1.tar.gz (204.2MB)\n",
            "\u001b[K     |████████████████████████████████| 204.2MB 72kB/s \n",
            "\u001b[?25hCollecting py4j==0.10.9\n",
            "\u001b[?25l  Downloading https://files.pythonhosted.org/packages/9e/b6/6a4fb90cd235dc8e265a6a2067f2a2c99f0d91787f06aca4bcf7c23f3f80/py4j-0.10.9-py2.py3-none-any.whl (198kB)\n",
            "\u001b[K     |████████████████████████████████| 204kB 47.0MB/s \n",
            "\u001b[?25hBuilding wheels for collected packages: pyspark\n",
            "  Building wheel for pyspark (setup.py) ... \u001b[?25l\u001b[?25hdone\n",
            "  Created wheel for pyspark: filename=pyspark-3.0.1-py2.py3-none-any.whl size=204612243 sha256=8c2f2e257c83484ba80c25b59d6d9fb66573aa0a52dc4f715e8a061fd09e65a1\n",
            "  Stored in directory: /root/.cache/pip/wheels/5e/bd/07/031766ca628adec8435bb40f0bd83bb676ce65ff4007f8e73f\n",
            "Successfully built pyspark\n",
            "Installing collected packages: py4j, pyspark\n",
            "Successfully installed py4j-0.10.9 pyspark-3.0.1\n"
          ],
          "name": "stdout"
        }
      ]
    },
    {
      "cell_type": "markdown",
      "metadata": {
        "id": "DjO4ml4MLObH"
      },
      "source": [
        "## Before"
      ]
    },
    {
      "cell_type": "markdown",
      "metadata": {
        "id": "qh-Khd9lLQwD"
      },
      "source": [
        "### Hashtag, cleaning"
      ]
    },
    {
      "cell_type": "code",
      "metadata": {
        "id": "zKSNX33lHcYV",
        "colab": {
          "base_uri": "https://localhost:8080/",
          "height": 419
        },
        "outputId": "e0aaf4c7-ec6e-402d-84ef-55c4c48a5454"
      },
      "source": [
        "import pandas as pd\n",
        "before = pd.read_csv(\"tweets.csv\")\n",
        "before"
      ],
      "execution_count": null,
      "outputs": [
        {
          "output_type": "execute_result",
          "data": {
            "text/html": [
              "<div>\n",
              "<style scoped>\n",
              "    .dataframe tbody tr th:only-of-type {\n",
              "        vertical-align: middle;\n",
              "    }\n",
              "\n",
              "    .dataframe tbody tr th {\n",
              "        vertical-align: top;\n",
              "    }\n",
              "\n",
              "    .dataframe thead th {\n",
              "        text-align: right;\n",
              "    }\n",
              "</style>\n",
              "<table border=\"1\" class=\"dataframe\">\n",
              "  <thead>\n",
              "    <tr style=\"text-align: right;\">\n",
              "      <th></th>\n",
              "      <th>user</th>\n",
              "      <th>id</th>\n",
              "      <th>location</th>\n",
              "      <th>date</th>\n",
              "      <th>favourites_count</th>\n",
              "      <th>text</th>\n",
              "      <th>retweet</th>\n",
              "    </tr>\n",
              "  </thead>\n",
              "  <tbody>\n",
              "    <tr>\n",
              "      <th>0</th>\n",
              "      <td>PatsFan876</td>\n",
              "      <td>2.999235e+09</td>\n",
              "      <td>NaN</td>\n",
              "      <td>1/26/15</td>\n",
              "      <td>359685</td>\n",
              "      <td>Busting stereotypes here... I'm a truck drivin...</td>\n",
              "      <td>True</td>\n",
              "    </tr>\n",
              "    <tr>\n",
              "      <th>1</th>\n",
              "      <td>Yasu_Al_Masih</td>\n",
              "      <td>8.830000e+17</td>\n",
              "      <td>Nazareth</td>\n",
              "      <td>7/7/17</td>\n",
              "      <td>15736</td>\n",
              "      <td>I COULDN'T RESIST POSTING THIS ONE!🤣😂🤣😂🤣🤣🤣 🤦‍♀...</td>\n",
              "      <td>True</td>\n",
              "    </tr>\n",
              "    <tr>\n",
              "      <th>2</th>\n",
              "      <td>JBK11</td>\n",
              "      <td>1.503627e+07</td>\n",
              "      <td>Canada</td>\n",
              "      <td>6/7/08</td>\n",
              "      <td>43347</td>\n",
              "      <td>Busting stereotypes here... I'm a truck drivin...</td>\n",
              "      <td>True</td>\n",
              "    </tr>\n",
              "    <tr>\n",
              "      <th>3</th>\n",
              "      <td>SoyElG</td>\n",
              "      <td>3.209835e+07</td>\n",
              "      <td>NaN</td>\n",
              "      <td>4/16/09</td>\n",
              "      <td>432</td>\n",
              "      <td>The dismissive hand wave is what’s most disres...</td>\n",
              "      <td>False</td>\n",
              "    </tr>\n",
              "    <tr>\n",
              "      <th>4</th>\n",
              "      <td>cynthianatalie</td>\n",
              "      <td>2.110394e+07</td>\n",
              "      <td>Los Angeles</td>\n",
              "      <td>2/17/09</td>\n",
              "      <td>4952</td>\n",
              "      <td>Inside #DonaldTrump's \"serial bad behavior\" at...</td>\n",
              "      <td>True</td>\n",
              "    </tr>\n",
              "    <tr>\n",
              "      <th>...</th>\n",
              "      <td>...</td>\n",
              "      <td>...</td>\n",
              "      <td>...</td>\n",
              "      <td>...</td>\n",
              "      <td>...</td>\n",
              "      <td>...</td>\n",
              "      <td>...</td>\n",
              "    </tr>\n",
              "    <tr>\n",
              "      <th>97195</th>\n",
              "      <td>Kimberl93935319</td>\n",
              "      <td>9.230000e+17</td>\n",
              "      <td>NaN</td>\n",
              "      <td>10/24/17</td>\n",
              "      <td>14605</td>\n",
              "      <td>@Amy_Siskind #DEMFOCUS2020 We need to focus re...</td>\n",
              "      <td>True</td>\n",
              "    </tr>\n",
              "    <tr>\n",
              "      <th>97196</th>\n",
              "      <td>sharknadoalert</td>\n",
              "      <td>1.280000e+18</td>\n",
              "      <td>NaN</td>\n",
              "      <td>7/16/20</td>\n",
              "      <td>6375</td>\n",
              "      <td>\"Missed opportunities add up to a losing strat...</td>\n",
              "      <td>True</td>\n",
              "    </tr>\n",
              "    <tr>\n",
              "      <th>97197</th>\n",
              "      <td>BereniceJB_</td>\n",
              "      <td>4.312218e+08</td>\n",
              "      <td>Orange County</td>\n",
              "      <td>12/8/11</td>\n",
              "      <td>29087</td>\n",
              "      <td>The Gun Lobby is calling on voters to vote for...</td>\n",
              "      <td>True</td>\n",
              "    </tr>\n",
              "    <tr>\n",
              "      <th>97198</th>\n",
              "      <td>1989Mckoy</td>\n",
              "      <td>8.440000e+17</td>\n",
              "      <td>NaN</td>\n",
              "      <td>3/22/17</td>\n",
              "      <td>135684</td>\n",
              "      <td>Please vote #registertovote if you have yet to...</td>\n",
              "      <td>False</td>\n",
              "    </tr>\n",
              "    <tr>\n",
              "      <th>97199</th>\n",
              "      <td>davescar1</td>\n",
              "      <td>5.778776e+07</td>\n",
              "      <td>Spanish Fork, UT</td>\n",
              "      <td>7/17/09</td>\n",
              "      <td>74464</td>\n",
              "      <td>@njlang4 @ACTBrigitte The president was amazin...</td>\n",
              "      <td>True</td>\n",
              "    </tr>\n",
              "  </tbody>\n",
              "</table>\n",
              "<p>97200 rows × 7 columns</p>\n",
              "</div>"
            ],
            "text/plain": [
              "                  user  ...  retweet\n",
              "0           PatsFan876  ...     True\n",
              "1        Yasu_Al_Masih  ...     True\n",
              "2                JBK11  ...     True\n",
              "3               SoyElG  ...    False\n",
              "4       cynthianatalie  ...     True\n",
              "...                ...  ...      ...\n",
              "97195  Kimberl93935319  ...     True\n",
              "97196   sharknadoalert  ...     True\n",
              "97197      BereniceJB_  ...     True\n",
              "97198        1989Mckoy  ...    False\n",
              "97199        davescar1  ...     True\n",
              "\n",
              "[97200 rows x 7 columns]"
            ]
          },
          "metadata": {
            "tags": []
          },
          "execution_count": 10
        }
      ]
    },
    {
      "cell_type": "code",
      "metadata": {
        "id": "7z7Z5XWTTy6t",
        "colab": {
          "base_uri": "https://localhost:8080/"
        },
        "outputId": "d2031400-a200-4a16-f7c3-1f9fb3f5688e"
      },
      "source": [
        "before.dtypes"
      ],
      "execution_count": null,
      "outputs": [
        {
          "output_type": "execute_result",
          "data": {
            "text/plain": [
              "user                 object\n",
              "id                  float64\n",
              "location             object\n",
              "date                 object\n",
              "favourites_count      int64\n",
              "text                 object\n",
              "retweet                bool\n",
              "dtype: object"
            ]
          },
          "metadata": {
            "tags": []
          },
          "execution_count": 11
        }
      ]
    },
    {
      "cell_type": "code",
      "metadata": {
        "id": "UynZzUSfyM4V",
        "colab": {
          "base_uri": "https://localhost:8080/"
        },
        "outputId": "648aec14-c88d-48d6-a6ae-8e2de1367490"
      },
      "source": [
        "# Pandas to Spark\n",
        "from pyspark.sql.types import *\n",
        "# mySchema=StructType([StructField(\"Country\", StringType())\\\n",
        "#                       ,StructField(\"Org\", StringType())])\n",
        "\n",
        "mySchema = StructType([StructField(\"user\", StringType())\\\n",
        "                      ,StructField(\"id\", FloatType())\\\n",
        "                      ,StructField(\"location\", StringType())\\\n",
        "                      ,StructField(\"date\", StringType())\\\n",
        "                      ,StructField(\"favourites_count\", StringType())\\\n",
        "                      ,StructField(\"text\", StringType())\\\n",
        "                      ,StructField(\"retweet\", StringType())])\n",
        "df_before = spark.createDataFrame(before,schema=mySchema)\n",
        "df_before.show()"
      ],
      "execution_count": null,
      "outputs": [
        {
          "output_type": "stream",
          "text": [
            "+---------------+-------------+--------------------+--------+----------------+--------------------+-------+\n",
            "|           user|           id|            location|    date|favourites_count|                text|retweet|\n",
            "+---------------+-------------+--------------------+--------+----------------+--------------------+-------+\n",
            "|     PatsFan876| 2.99923456E9|                 NaN| 1/26/15|          359685|Busting stereotyp...|   true|\n",
            "|  Yasu_Al_Masih| 8.8299999E17|            Nazareth|  7/7/17|           15736|I COULDN'T RESIST...|   true|\n",
            "|          JBK11|  1.5036271E7|              Canada|  6/7/08|           43347|Busting stereotyp...|   true|\n",
            "|         SoyElG|  3.2098352E7|                 NaN| 4/16/09|             432|The dismissive ha...|  false|\n",
            "| cynthianatalie|  2.1103938E7|         Los Angeles| 2/17/09|            4952|Inside #DonaldTru...|   true|\n",
            "|  jaynemikulski|  7.1986381E8| Western Springs, IL|10/17/13|          103327|Is #DonaldTrump a...|   true|\n",
            "|       Shrinki2|1.21999996E18|     United States, | 1/24/20|            2543|@JenniferJJacobs ...|  false|\n",
            "|         xizzhu|  1.5253278E7|       United States| 6/27/08|           11098|@jack @nypost You...|  false|\n",
            "|   tmihollywood|  7.5029587E8|Hollywood, Califo...| 8/11/12|            1162|Full #show on htt...|  false|\n",
            "|   TymberDalton|  1.9447498E7| Dagnabbit, Florida!| 1/24/09|          154155|Inside #DonaldTru...|   true|\n",
            "|   PhilthyLando|  8.3262528E7|Cave Creek, AZ Or...|10/18/09|            6647|#AmyConeyBarrett ...|  false|\n",
            "|  roripierpont1|      7.08E17|                 NaN| 3/10/16|          755982|Inside #DonaldTru...|   true|\n",
            "|        ret_cw3|  1.8868356E7|AZ, MI (Deutschla...| 1/11/09|          229059|Busting stereotyp...|   true|\n",
            "|DickYoungsGhost|  4.1751696E8|          My America|11/21/11|           24900|Inside #DonaldTru...|   true|\n",
            "|     martymar_1|   3.142076E7|                 NaN| 4/15/09|           13109|@realDonaldTrump ...|  false|\n",
            "|peaceandteachin| 9.4999997E17|                 NaN|  1/6/18|          133248|#DonaldTrump’s SA...|   true|\n",
            "|SuperWoman26245| 7.0199997E17|     California, USA| 2/22/16|           55165|@meiselasb @gtcon...|  false|\n",
            "| QueenPeace2017| 8.2099997E17|        Georgia, USA| 1/16/17|           41177|1/  THREAD: Body ...|   true|\n",
            "|    andrewpward|  1.4351438E7|     New Orleans, LA| 4/10/08|            2973|Inside #DonaldTru...|   true|\n",
            "|kirstinestewart|  2.4235944E8|  So many airplanes | 1/24/11|          139463|Inside #DonaldTru...|   true|\n",
            "+---------------+-------------+--------------------+--------+----------------+--------------------+-------+\n",
            "only showing top 20 rows\n",
            "\n"
          ],
          "name": "stdout"
        }
      ]
    },
    {
      "cell_type": "code",
      "metadata": {
        "id": "qVUopS-vJ3k9",
        "colab": {
          "base_uri": "https://localhost:8080/"
        },
        "outputId": "9bd9a59d-e013-4c8f-bff8-15afaa59fd22"
      },
      "source": [
        "df_before.count()"
      ],
      "execution_count": null,
      "outputs": [
        {
          "output_type": "execute_result",
          "data": {
            "text/plain": [
              "97200"
            ]
          },
          "metadata": {
            "tags": []
          },
          "execution_count": 13
        }
      ]
    },
    {
      "cell_type": "code",
      "metadata": {
        "id": "7f-mbvZNYrva"
      },
      "source": [
        "# drop columns\n",
        "df_before = df_before.drop('id', 'date')\n",
        "# change the data type\n",
        "df_before = df_before.withColumn(\"favourites_count\", df_before['favourites_count'].cast(IntegerType()))\n",
        "# # drop rows which tweet is retweet\n",
        "df_before = df_before.filter(df_before['retweet'] == 'false')"
      ],
      "execution_count": null,
      "outputs": []
    },
    {
      "cell_type": "code",
      "metadata": {
        "id": "qjvL3alAocmS",
        "colab": {
          "base_uri": "https://localhost:8080/"
        },
        "outputId": "3a808989-f0d6-4058-9cdb-7f396e8518a7"
      },
      "source": [
        "# check if there are duplicate rows\n",
        "if df_before.distinct().count() != df_before.count():\n",
        "  print('There are duplicate rows.')\n",
        "else:\n",
        "  print('No duplicated.')"
      ],
      "execution_count": null,
      "outputs": [
        {
          "output_type": "stream",
          "text": [
            "There are duplicate rows.\n"
          ],
          "name": "stdout"
        }
      ]
    },
    {
      "cell_type": "code",
      "metadata": {
        "id": "W0ZwkuaJnUcX",
        "colab": {
          "base_uri": "https://localhost:8080/"
        },
        "outputId": "34c190da-ef62-463b-8797-af221410e012"
      },
      "source": [
        "# remove duplicate rows\n",
        "df_before = df_before.dropDuplicates()\n",
        "df_before.count()"
      ],
      "execution_count": null,
      "outputs": [
        {
          "output_type": "execute_result",
          "data": {
            "text/plain": [
              "22987"
            ]
          },
          "metadata": {
            "tags": []
          },
          "execution_count": 16
        }
      ]
    },
    {
      "cell_type": "code",
      "metadata": {
        "id": "7M1P6QoIZEdB",
        "colab": {
          "base_uri": "https://localhost:8080/"
        },
        "outputId": "625a793a-9af5-4a9d-b5c1-ce97a14d565e"
      },
      "source": [
        "df_before.show(4)"
      ],
      "execution_count": null,
      "outputs": [
        {
          "output_type": "stream",
          "text": [
            "+---------------+--------------------+----------------+--------------------+-------+\n",
            "|           user|            location|favourites_count|                text|retweet|\n",
            "+---------------+--------------------+----------------+--------------------+-------+\n",
            "|    TerinaKelso|Jacksonville, Flo...|            1865|SAY IT AGAIN FOR ...|  false|\n",
            "| BadTasteMedia7|      Snellville, Ga|               2|I appreciate Chri...|  false|\n",
            "|Horizonshealth2|                 NaN|              28|FOODS THAT MAKE Y...|  false|\n",
            "|  maskshirt2021|                 NaN|             125|Without a mask he...|  false|\n",
            "+---------------+--------------------+----------------+--------------------+-------+\n",
            "only showing top 4 rows\n",
            "\n"
          ],
          "name": "stdout"
        }
      ]
    },
    {
      "cell_type": "code",
      "metadata": {
        "id": "eERbc_JzegYG"
      },
      "source": [
        "# extract the hashtage\n",
        "import re\n",
        "#extracting hashtags as a means of possible cluster validation  \n",
        "def extraxt_hashtags(text):\n",
        "  hashtags = re.findall(r'\\B#\\w*[a-zA-Z]+\\w*', text)\n",
        "  return hashtags"
      ],
      "execution_count": null,
      "outputs": []
    },
    {
      "cell_type": "code",
      "metadata": {
        "id": "WPKzvDqfejWT"
      },
      "source": [
        "from pyspark.sql.functions import udf, expr, concat, col\n",
        "from pyspark.sql import types\n",
        "func_hash = udf(extraxt_hashtags, types.StringType())\n",
        "df_before = df_before.withColumn(\"hashtage\", func_hash(\"text\"))"
      ],
      "execution_count": null,
      "outputs": []
    },
    {
      "cell_type": "code",
      "metadata": {
        "id": "f5feqBOtefHT"
      },
      "source": [
        "# clean tweet\n",
        "from string import punctuation\n",
        "def clean_tweet(tweet):\n",
        "    # Remove hyperlinks\n",
        "    tweet = re.sub(\"https?://[A-Za-z0-9./]*\",\"\",tweet)\n",
        "    # Remove hashtags\n",
        "    tweet = re.sub(r'#\\w*', '', tweet)\n",
        "    # Remove tickers\n",
        "    tweet = re.sub(r'\\$\\w*', '', tweet)\n",
        "    #@user -> at_user\n",
        "    tweet = re.sub(\"@[\\w]*\",\"\",tweet)\n",
        "    # To lowercase\n",
        "    tweet = tweet.lower()\n",
        "    # Remove Punctuation and split 's, 't, 've with a space for filter\n",
        "    tweet = re.sub(r'[' + punctuation.replace('@', '') + ']+', ' ', tweet)\n",
        "    # Remove words: I, a , am, me (2 or less letters)\n",
        "    tweet = re.sub(r'\\b\\w{1,2}\\b', '', tweet)\n",
        "    # Remove whitespace (including new line characters)\n",
        "    tweet = re.sub(r'\\s\\s+', ' ', tweet)\n",
        "    # Remove single space remaining at the front of the tweet.\n",
        "    tweet = tweet.lstrip(' ') \n",
        "    # Remove emojis or other. special characters\n",
        "    tweet = ''.join(c for c in tweet if c <= '\\uFFFF') \n",
        "    return tweet  "
      ],
      "execution_count": null,
      "outputs": []
    },
    {
      "cell_type": "code",
      "metadata": {
        "id": "87JJh7NIjoNg"
      },
      "source": [
        "func_clean = udf(clean_tweet, types.StringType())\n",
        "df_before = df_before.withColumn(\"clean_text\", func_clean(\"text\"))"
      ],
      "execution_count": null,
      "outputs": []
    },
    {
      "cell_type": "markdown",
      "metadata": {
        "id": "VeOx3VmALZ_h"
      },
      "source": [
        "### sentiment analysis for score"
      ]
    },
    {
      "cell_type": "code",
      "metadata": {
        "id": "310IToLVI3ys",
        "colab": {
          "base_uri": "https://localhost:8080/"
        },
        "outputId": "3b7ee3c0-4a19-4b65-daa4-c176b667ee98"
      },
      "source": [
        "df_before.printSchema()"
      ],
      "execution_count": null,
      "outputs": [
        {
          "output_type": "stream",
          "text": [
            "root\n",
            " |-- user: string (nullable = true)\n",
            " |-- location: string (nullable = true)\n",
            " |-- favourites_count: integer (nullable = true)\n",
            " |-- text: string (nullable = true)\n",
            " |-- retweet: string (nullable = true)\n",
            " |-- hashtage: string (nullable = true)\n",
            " |-- clean_text: string (nullable = true)\n",
            "\n"
          ],
          "name": "stdout"
        }
      ]
    },
    {
      "cell_type": "code",
      "metadata": {
        "id": "6eY4dIixI-Ib",
        "colab": {
          "base_uri": "https://localhost:8080/"
        },
        "outputId": "02ac63a6-b640-41f5-da4c-f21d50c33a0b"
      },
      "source": [
        "from textblob import TextBlob\n",
        "\n",
        "def getSentiment(text):\n",
        "    temp = TextBlob(text).sentiment[0]\n",
        "    if temp == 0.0:\n",
        "        return 0 # Neutral\n",
        "    elif temp >= 0.0:\n",
        "        return 1 # Positive\n",
        "    else:\n",
        "        return -1 # Negative\n",
        "\n",
        "sentiment = udf(getSentiment)\n",
        "df_before = df_before.withColumn(\"score\", sentiment(df_before['clean_text']))\n",
        "df_before.show(4)"
      ],
      "execution_count": null,
      "outputs": [
        {
          "output_type": "stream",
          "text": [
            "+---------------+--------------------+----------------+--------------------+-------+--------------------+--------------------+-----+\n",
            "|           user|            location|favourites_count|                text|retweet|            hashtage|          clean_text|score|\n",
            "+---------------+--------------------+----------------+--------------------+-------+--------------------+--------------------+-----+\n",
            "|    TerinaKelso|Jacksonville, Flo...|            1865|SAY IT AGAIN FOR ...|  false|[#trump, #maga, #...|say again for the...|    0|\n",
            "| BadTasteMedia7|      Snellville, Ga|               2|I appreciate Chri...|  false|[#badtastemedia, ...|appreciate christ...|   -1|\n",
            "|Horizonshealth2|                 NaN|              28|FOODS THAT MAKE Y...|  false|[#DonaldTrump, #T...|foods that make y...|    0|\n",
            "|  maskshirt2021|                 NaN|             125|Without a mask he...|  false|[#COVIDIOTS, #Don...|without mask stan...|    1|\n",
            "+---------------+--------------------+----------------+--------------------+-------+--------------------+--------------------+-----+\n",
            "only showing top 4 rows\n",
            "\n"
          ],
          "name": "stdout"
        }
      ]
    },
    {
      "cell_type": "code",
      "metadata": {
        "id": "59uKHqUioUwx"
      },
      "source": [
        "df_before.toPandas().to_csv('before.csv')"
      ],
      "execution_count": null,
      "outputs": []
    },
    {
      "cell_type": "markdown",
      "metadata": {
        "id": "lFyVEGsBPTsl"
      },
      "source": [
        "### tfidf"
      ]
    },
    {
      "cell_type": "code",
      "metadata": {
        "id": "HJR0W0SmtGQr"
      },
      "source": [
        "from pyspark.ml.feature import Tokenizer\n",
        "from pyspark.ml.feature import StopWordsRemover\n",
        "from pyspark.ml.feature import IDF\n",
        "import requests\n",
        "from pyspark.ml import Pipeline\n",
        "from pyspark.ml.feature import CountVectorizer\n",
        "\n",
        "tokenizer = Tokenizer()\\\n",
        "  .setInputCol(\"clean_text\")\\\n",
        "  .setOutputCol(\"words\")\n",
        "\n",
        "# stopwords object\n",
        "# we obtain the stop words from a website\n",
        "stop_words = requests.get('http://ir.dcs.gla.ac.uk/resources/linguistic_utils/stop_words').text.split()\n",
        "stop_words[0:10]\n",
        "sw_filter = StopWordsRemover()\\\n",
        "\\\n",
        "  .setStopWords(stop_words)\\\n",
        "  .setCaseSensitive(False)\\\n",
        "  .setInputCol(\"words\")\\\n",
        "  .setOutputCol(\"filtered\")\n",
        "\n",
        "# we will remove words that appear in 5 docs or less\n",
        "cv = CountVectorizer()\\\n",
        "  .setInputCol(\"filtered\")\\\n",
        "  .setOutputCol(\"tf\")\n",
        "\n",
        "# TF-IDF object\n",
        "idf = IDF().\\\n",
        "    setInputCol('tf').\\\n",
        "    setOutputCol('tfidf')\n",
        "\n",
        "# build the pipeline\n",
        "pipe1 = Pipeline(stages=[tokenizer, sw_filter, cv]).fit(df_before)\n",
        "tweets_pipe = Pipeline(stages=[pipe1, idf]).fit(df_before)"
      ],
      "execution_count": null,
      "outputs": []
    },
    {
      "cell_type": "code",
      "metadata": {
        "id": "t7_KdhOvkRxE"
      },
      "source": [
        "tweets_before_df = tweets_pipe.transform(df_before)"
      ],
      "execution_count": null,
      "outputs": []
    },
    {
      "cell_type": "code",
      "metadata": {
        "id": "yVtj850DhBOB",
        "colab": {
          "base_uri": "https://localhost:8080/"
        },
        "outputId": "5620f471-0983-475e-8088-124c7c9bda90"
      },
      "source": [
        "tweets_before_df.show(4)"
      ],
      "execution_count": null,
      "outputs": [
        {
          "output_type": "stream",
          "text": [
            "+---------------+--------------------+----------------+--------------------+-------+--------------------+--------------------+-----+--------------------+--------------------+--------------------+--------------------+\n",
            "|           user|            location|favourites_count|                text|retweet|            hashtage|          clean_text|score|               words|            filtered|                  tf|               tfidf|\n",
            "+---------------+--------------------+----------------+--------------------+-------+--------------------+--------------------+-----+--------------------+--------------------+--------------------+--------------------+\n",
            "|    TerinaKelso|Jacksonville, Flo...|            1865|SAY IT AGAIN FOR ...|  false|[#trump, #maga, #...|say again for the...|    0|[say, again, for,...|  [say, people, row]|(20493,[9,50,3185...|(20493,[9,50,3185...|\n",
            "| BadTasteMedia7|      Snellville, Ga|               2|I appreciate Chri...|  false|[#badtastemedia, ...|appreciate christ...|   -1|[appreciate, chri...|[appreciate, chri...|(20493,[8,29,45,5...|(20493,[8,29,45,5...|\n",
            "|Horizonshealth2|                 NaN|              28|FOODS THAT MAKE Y...|  false|[#DonaldTrump, #T...|foods that make y...|    0|[foods, that, mak...|[foods, make, sle...|(20493,[21,797,79...|(20493,[21,797,79...|\n",
            "|  maskshirt2021|                 NaN|             125|Without a mask he...|  false|[#COVIDIOTS, #Don...|without mask stan...|    1|[without, mask, s...|[mask, standing, ...|(20493,[1,10,11,3...|(20493,[1,10,11,3...|\n",
            "+---------------+--------------------+----------------+--------------------+-------+--------------------+--------------------+-----+--------------------+--------------------+--------------------+--------------------+\n",
            "only showing top 4 rows\n",
            "\n"
          ],
          "name": "stdout"
        }
      ]
    },
    {
      "cell_type": "markdown",
      "metadata": {
        "id": "qF-gJDQihEsO"
      },
      "source": [
        "## After"
      ]
    },
    {
      "cell_type": "markdown",
      "metadata": {
        "id": "843LFI_EM1-R"
      },
      "source": [
        "### Hashtag, cleaning"
      ]
    },
    {
      "cell_type": "code",
      "metadata": {
        "id": "-6dQ_RQfpc2e",
        "colab": {
          "base_uri": "https://localhost:8080/",
          "height": 419
        },
        "outputId": "0467a918-854a-4a92-cd9b-7014ef6669e3"
      },
      "source": [
        "df_after = pd.read_csv(\"tweet_after.csv\")\n",
        "df_after"
      ],
      "execution_count": null,
      "outputs": [
        {
          "output_type": "execute_result",
          "data": {
            "text/html": [
              "<div>\n",
              "<style scoped>\n",
              "    .dataframe tbody tr th:only-of-type {\n",
              "        vertical-align: middle;\n",
              "    }\n",
              "\n",
              "    .dataframe tbody tr th {\n",
              "        vertical-align: top;\n",
              "    }\n",
              "\n",
              "    .dataframe thead th {\n",
              "        text-align: right;\n",
              "    }\n",
              "</style>\n",
              "<table border=\"1\" class=\"dataframe\">\n",
              "  <thead>\n",
              "    <tr style=\"text-align: right;\">\n",
              "      <th></th>\n",
              "      <th>user</th>\n",
              "      <th>id</th>\n",
              "      <th>location</th>\n",
              "      <th>date</th>\n",
              "      <th>favourites_count</th>\n",
              "      <th>text</th>\n",
              "      <th>retweet</th>\n",
              "    </tr>\n",
              "  </thead>\n",
              "  <tbody>\n",
              "    <tr>\n",
              "      <th>0</th>\n",
              "      <td>Hskers62</td>\n",
              "      <td>9.081270e+17</td>\n",
              "      <td>United States</td>\n",
              "      <td>9/14/17</td>\n",
              "      <td>197954.0</td>\n",
              "      <td>Donald Trump is the only president in history ...</td>\n",
              "      <td>True</td>\n",
              "    </tr>\n",
              "    <tr>\n",
              "      <th>1</th>\n",
              "      <td>JMZJEWELRY</td>\n",
              "      <td>8.826030e+17</td>\n",
              "      <td>Here and there</td>\n",
              "      <td>7/5/17</td>\n",
              "      <td>3652.0</td>\n",
              "      <td>Joe Biden got 306 Electoral College votes by w...</td>\n",
              "      <td>True</td>\n",
              "    </tr>\n",
              "    <tr>\n",
              "      <th>2</th>\n",
              "      <td>lrogers66821</td>\n",
              "      <td>1.004390e+18</td>\n",
              "      <td>Cincinnati, OH</td>\n",
              "      <td>6/6/18</td>\n",
              "      <td>369957.0</td>\n",
              "      <td>Deutsche Bank, which funded Auschwitz, Donald ...</td>\n",
              "      <td>True</td>\n",
              "    </tr>\n",
              "    <tr>\n",
              "      <th>3</th>\n",
              "      <td>LizNYC66</td>\n",
              "      <td>8.927390e+17</td>\n",
              "      <td>Manhattan, NY</td>\n",
              "      <td>8/2/17</td>\n",
              "      <td>33175.0</td>\n",
              "      <td>The Biden administration is sure to come under...</td>\n",
              "      <td>True</td>\n",
              "    </tr>\n",
              "    <tr>\n",
              "      <th>4</th>\n",
              "      <td>thia89837769</td>\n",
              "      <td>1.214570e+18</td>\n",
              "      <td>Ottawa, Ontario</td>\n",
              "      <td>1/7/20</td>\n",
              "      <td>5580.0</td>\n",
              "      <td>Donald Trump is the only president in history ...</td>\n",
              "      <td>True</td>\n",
              "    </tr>\n",
              "    <tr>\n",
              "      <th>...</th>\n",
              "      <td>...</td>\n",
              "      <td>...</td>\n",
              "      <td>...</td>\n",
              "      <td>...</td>\n",
              "      <td>...</td>\n",
              "      <td>...</td>\n",
              "      <td>...</td>\n",
              "    </tr>\n",
              "    <tr>\n",
              "      <th>45389</th>\n",
              "      <td>Richardson9Mike</td>\n",
              "      <td>1.219890e+18</td>\n",
              "      <td>NaN</td>\n",
              "      <td>1/22/20</td>\n",
              "      <td>21.0</td>\n",
              "      <td>Should Nancy go to jail? #Elections2020 #Elect...</td>\n",
              "      <td>False</td>\n",
              "    </tr>\n",
              "    <tr>\n",
              "      <th>45390</th>\n",
              "      <td>suzyqbooks</td>\n",
              "      <td>3.720740e+07</td>\n",
              "      <td>Salt Lake City, UT</td>\n",
              "      <td>5/2/09</td>\n",
              "      <td>8759.0</td>\n",
              "      <td>VOTE UPDATE:\\n\\nGeorgia: Biden +12,337 \\nArizo...</td>\n",
              "      <td>True</td>\n",
              "    </tr>\n",
              "    <tr>\n",
              "      <th>45391</th>\n",
              "      <td>MSZ006FD3S3121</td>\n",
              "      <td>1.041590e+18</td>\n",
              "      <td>NaN</td>\n",
              "      <td>9/17/18</td>\n",
              "      <td>47294.0</td>\n",
              "      <td>VOTE UPDATE:\\n\\nGeorgia: Biden +12,337 \\nArizo...</td>\n",
              "      <td>True</td>\n",
              "    </tr>\n",
              "    <tr>\n",
              "      <th>45392</th>\n",
              "      <td>FjellVeitje</td>\n",
              "      <td>1.297540e+18</td>\n",
              "      <td>Noreg</td>\n",
              "      <td>8/23/20</td>\n",
              "      <td>2731.0</td>\n",
              "      <td>I think this is a vote we all can agree on... ...</td>\n",
              "      <td>True</td>\n",
              "    </tr>\n",
              "    <tr>\n",
              "      <th>45393</th>\n",
              "      <td>LEAP70760991</td>\n",
              "      <td>1.182140e+18</td>\n",
              "      <td>NaN</td>\n",
              "      <td>10/10/19</td>\n",
              "      <td>12.0</td>\n",
              "      <td>Young, intelligent and compassionate American ...</td>\n",
              "      <td>False</td>\n",
              "    </tr>\n",
              "  </tbody>\n",
              "</table>\n",
              "<p>45394 rows × 7 columns</p>\n",
              "</div>"
            ],
            "text/plain": [
              "                  user  ...  retweet\n",
              "0             Hskers62  ...     True\n",
              "1           JMZJEWELRY  ...     True\n",
              "2         lrogers66821  ...     True\n",
              "3             LizNYC66  ...     True\n",
              "4         thia89837769  ...     True\n",
              "...                ...  ...      ...\n",
              "45389  Richardson9Mike  ...    False\n",
              "45390       suzyqbooks  ...     True\n",
              "45391   MSZ006FD3S3121  ...     True\n",
              "45392      FjellVeitje  ...     True\n",
              "45393     LEAP70760991  ...    False\n",
              "\n",
              "[45394 rows x 7 columns]"
            ]
          },
          "metadata": {
            "tags": []
          },
          "execution_count": 49
        }
      ]
    },
    {
      "cell_type": "code",
      "metadata": {
        "id": "Doj2s_bbRrr_",
        "colab": {
          "base_uri": "https://localhost:8080/"
        },
        "outputId": "85c32af6-1d70-4c56-aa49-814ec81b9309"
      },
      "source": [
        "df_after.dtypes"
      ],
      "execution_count": null,
      "outputs": [
        {
          "output_type": "execute_result",
          "data": {
            "text/plain": [
              "user                 object\n",
              "id                  float64\n",
              "location             object\n",
              "date                 object\n",
              "favourites_count    float64\n",
              "text                 object\n",
              "retweet              object\n",
              "dtype: object"
            ]
          },
          "metadata": {
            "tags": []
          },
          "execution_count": 50
        }
      ]
    },
    {
      "cell_type": "code",
      "metadata": {
        "id": "0zsir_JyRcLb",
        "colab": {
          "base_uri": "https://localhost:8080/"
        },
        "outputId": "c73e9605-abd2-45bb-e9f3-d9ea68cb9595"
      },
      "source": [
        "from pyspark.sql.types import *\n",
        "# mySchema=StructType([StructField(\"Country\", StringType())\\\n",
        "#                       ,StructField(\"Org\", StringType())])\n",
        "\n",
        "mySchema = StructType([StructField(\"user\", StringType())\\\n",
        "                      ,StructField(\"id\", FloatType())\\\n",
        "                      ,StructField(\"location\", StringType())\\\n",
        "                      ,StructField(\"date\", StringType())\\\n",
        "                      ,StructField(\"favourites_count\", StringType())\\\n",
        "                      ,StructField(\"text\", StringType())\\\n",
        "                      ,StructField(\"retweet\", StringType())])\n",
        "tweets_after = spark.createDataFrame(df_after,schema=mySchema)\n",
        "tweets_after.show(5)"
      ],
      "execution_count": null,
      "outputs": [
        {
          "output_type": "stream",
          "text": [
            "+------------+-------------+---------------+-------+----------------+--------------------+-------+\n",
            "|        user|           id|       location|   date|favourites_count|                text|retweet|\n",
            "+------------+-------------+---------------+-------+----------------+--------------------+-------+\n",
            "|    Hskers62| 9.0812699E17|  United States|9/14/17|        197954.0|Donald Trump is t...|   true|\n",
            "|  JMZJEWELRY|   8.82603E17|Here and there | 7/5/17|          3652.0|Joe Biden got 306...|   true|\n",
            "|lrogers66821|1.00438999E18| Cincinnati, OH| 6/6/18|        369957.0|Deutsche Bank, wh...|   true|\n",
            "|    LizNYC66| 8.9273898E17|  Manhattan, NY| 8/2/17|         33175.0|The Biden adminis...|   true|\n",
            "|thia89837769|1.21457002E18|Ottawa, Ontario| 1/7/20|          5580.0|Donald Trump is t...|   true|\n",
            "+------------+-------------+---------------+-------+----------------+--------------------+-------+\n",
            "only showing top 5 rows\n",
            "\n"
          ],
          "name": "stdout"
        }
      ]
    },
    {
      "cell_type": "code",
      "metadata": {
        "id": "UVhPENH_RzgU",
        "colab": {
          "base_uri": "https://localhost:8080/"
        },
        "outputId": "1ff5938f-8527-44b3-ba3b-147588997d38"
      },
      "source": [
        "tweets_after.count()"
      ],
      "execution_count": null,
      "outputs": [
        {
          "output_type": "execute_result",
          "data": {
            "text/plain": [
              "45394"
            ]
          },
          "metadata": {
            "tags": []
          },
          "execution_count": 52
        }
      ]
    },
    {
      "cell_type": "code",
      "metadata": {
        "id": "lroLfa3ORlSo"
      },
      "source": [
        "# drop columns\n",
        "tweets_after = tweets_after.drop('id', 'date')\n",
        "# change the data type\n",
        "tweets_after = tweets_after.withColumn(\"favourites_count\", tweets_after['favourites_count'].cast(IntegerType()))\n",
        "# # drop rows which tweet is retweet\n",
        "tweets_after = tweets_after.filter(tweets_after['retweet'] == 'false')"
      ],
      "execution_count": null,
      "outputs": []
    },
    {
      "cell_type": "code",
      "metadata": {
        "id": "e-hiirprR-7d",
        "colab": {
          "base_uri": "https://localhost:8080/"
        },
        "outputId": "9458e245-4e2f-486a-caeb-cd2322e07f9b"
      },
      "source": [
        "# check if there are duplicate rows\n",
        "if tweets_after.distinct().count() != tweets_after.count():\n",
        "  print('There are duplicate rows.')\n",
        "else:\n",
        "  print('No duplicated.')"
      ],
      "execution_count": null,
      "outputs": [
        {
          "output_type": "stream",
          "text": [
            "There are duplicate rows.\n"
          ],
          "name": "stdout"
        }
      ]
    },
    {
      "cell_type": "code",
      "metadata": {
        "id": "Lci1yaPjSGTB",
        "colab": {
          "base_uri": "https://localhost:8080/"
        },
        "outputId": "40ee0cbf-faf0-4b11-8d83-956998f6f7bb"
      },
      "source": [
        "# remove duplicate rows\n",
        "tweets_after = tweets_after.dropDuplicates()\n",
        "tweets_after.count()"
      ],
      "execution_count": null,
      "outputs": [
        {
          "output_type": "execute_result",
          "data": {
            "text/plain": [
              "15860"
            ]
          },
          "metadata": {
            "tags": []
          },
          "execution_count": 55
        }
      ]
    },
    {
      "cell_type": "code",
      "metadata": {
        "id": "mHHJltzxSTvq"
      },
      "source": [
        "tweets_after = tweets_after.withColumn(\"hashtage\", func_hash(\"text\"))"
      ],
      "execution_count": null,
      "outputs": []
    },
    {
      "cell_type": "code",
      "metadata": {
        "id": "MhHpBIPXSevM"
      },
      "source": [
        "tweets_after = tweets_after.withColumn(\"clean_text\", func_clean(\"text\"))"
      ],
      "execution_count": null,
      "outputs": []
    },
    {
      "cell_type": "markdown",
      "metadata": {
        "id": "F-E4RXAXM7-b"
      },
      "source": [
        "### sentiment analysis for score"
      ]
    },
    {
      "cell_type": "code",
      "metadata": {
        "id": "iZCy7kK4MwV3",
        "colab": {
          "base_uri": "https://localhost:8080/"
        },
        "outputId": "cc076e3d-2adf-4152-e745-862dd606b719"
      },
      "source": [
        "tweets_after = tweets_after.withColumn(\"score\", sentiment(tweets_after['clean_text']))\n",
        "tweets_after.show(4)"
      ],
      "execution_count": null,
      "outputs": [
        {
          "output_type": "stream",
          "text": [
            "+---------------+----------------+----------------+--------------------+-------+------------+--------------------+-----+\n",
            "|           user|        location|favourites_count|                text|retweet|    hashtage|          clean_text|score|\n",
            "+---------------+----------------+----------------+--------------------+-------+------------+--------------------+-----+\n",
            "|nicholasmcardle|White House -TBC|             418|@realDonaldTrump ...|  false|          []|trump english can...|    1|\n",
            "|     seanieinaz|             NaN|              38|@realDonaldTrump ...|  false|          []|can donald trump ...|   -1|\n",
            "|    packard1963|  Northumberland|           13002|@KayBurley #mikep...|  false|[#mikepence]|saying more less ...|    1|\n",
            "| mikepence_smom|   United States|             801|@MSarelson @Angel...|  false|          []|put his ass jail ...|   -1|\n",
            "+---------------+----------------+----------------+--------------------+-------+------------+--------------------+-----+\n",
            "only showing top 4 rows\n",
            "\n"
          ],
          "name": "stdout"
        }
      ]
    },
    {
      "cell_type": "code",
      "metadata": {
        "id": "tqnpivQZTZiI"
      },
      "source": [
        "tweets_after.toPandas().to_csv('after.csv')"
      ],
      "execution_count": null,
      "outputs": []
    },
    {
      "cell_type": "markdown",
      "metadata": {
        "id": "9UEyNMtdczP_"
      },
      "source": [
        "### idf"
      ]
    },
    {
      "cell_type": "code",
      "metadata": {
        "id": "mjnPv7fISoX3"
      },
      "source": [
        "pipe3 = Pipeline(stages=[tokenizer, sw_filter, cv]).fit(tweets_after)\n",
        "tweets_pipe_3 = Pipeline(stages=[pipe2, idf]).fit(tweets_after)"
      ],
      "execution_count": null,
      "outputs": []
    },
    {
      "cell_type": "code",
      "metadata": {
        "id": "u-jl1gM5TADm"
      },
      "source": [
        "tweets_after_df = tweets_pipe_2.transform(tweets_after)"
      ],
      "execution_count": null,
      "outputs": []
    },
    {
      "cell_type": "markdown",
      "metadata": {
        "id": "v-xGxDSqt4Sf"
      },
      "source": [
        "## Random Forest"
      ]
    },
    {
      "cell_type": "markdown",
      "metadata": {
        "id": "T6bikSQyvnKN"
      },
      "source": [
        "### Before"
      ]
    },
    {
      "cell_type": "code",
      "metadata": {
        "id": "1WlTdoCgthJS"
      },
      "source": [
        "from pyspark.ml.classification import RandomForestClassifier\n",
        "from pyspark.ml.regression import RandomForestRegressor\n",
        "from pyspark.ml.tuning import CrossValidator\n",
        "from pyspark.ml.feature import VectorIndexer"
      ],
      "execution_count": null,
      "outputs": []
    },
    {
      "cell_type": "code",
      "metadata": {
        "id": "DvsikTkvvGtK",
        "colab": {
          "base_uri": "https://localhost:8080/"
        },
        "outputId": "4a75895e-b309-4ae1-f2f6-5f72c96ad3ea"
      },
      "source": [
        "from pyspark.sql.functions import when\n",
        "before_final_1 = df_before\n",
        "before_final_1 = before_final_1.withColumn(\"score\",before_final_1[\"score\"].cast(IntegerType()))\n",
        "before_final_1 = before_final_1.withColumn(\"new_score\", when(before_final_1[\"score\"]==-1, 2).otherwise(before_final_1[\"score\"]))\n",
        "before_final_1.select('new_score').distinct().show()\n"
      ],
      "execution_count": null,
      "outputs": [
        {
          "output_type": "stream",
          "text": [
            "+---------+\n",
            "|new_score|\n",
            "+---------+\n",
            "|        1|\n",
            "|        2|\n",
            "|        0|\n",
            "+---------+\n",
            "\n"
          ],
          "name": "stdout"
        }
      ]
    },
    {
      "cell_type": "code",
      "metadata": {
        "id": "3CgJe8Kdv2k8"
      },
      "source": [
        "training_df, testing_df = before_final_1.randomSplit([0.7, 0.3], seed=0)"
      ],
      "execution_count": null,
      "outputs": []
    },
    {
      "cell_type": "code",
      "metadata": {
        "id": "2OoX9IuxuHK-"
      },
      "source": [
        "from pyspark.ml.linalg import Vectors\n",
        "from pyspark.ml.evaluation import RegressionEvaluator\n",
        "from pyspark.ml.evaluation import BinaryClassificationEvaluator\n",
        "from pyspark.ml.tuning import CrossValidator, ParamGridBuilder\n",
        "\n",
        "rf = RandomForestClassifier(labelCol='new_score', featuresCol='tfidf', predictionCol='prediction')\n",
        "pipe2 = Pipeline(stages=[tokenizer, sw_filter, cv]).fit(training_df)\n",
        "rf_pipe = Pipeline(stages=[pipe2, idf, rf])\n",
        "modelEvaluator = RegressionEvaluator(labelCol='new_score', metricName='mse', predictionCol='prediction')"
      ],
      "execution_count": null,
      "outputs": []
    },
    {
      "cell_type": "code",
      "metadata": {
        "id": "fzed7C0dvXbH",
        "colab": {
          "base_uri": "https://localhost:8080/"
        },
        "outputId": "fd4aa15a-1962-4e13-f471-06253762aeea"
      },
      "source": [
        "grid = ParamGridBuilder().\\\n",
        "    addGrid(rf.numTrees, [5,10,15,20]).\\\n",
        "    addGrid(rf.maxDepth, [5,10]).\\\n",
        "    addGrid(rf.impurity, ['gini','entropy']).\\\n",
        "    build()\n",
        "rf_all_models = []\n",
        "for j in range(len(grid)):\n",
        "  print(\"Fitting model {}\".format(j+1))\n",
        "  model = rf_pipe.fit(training_df, grid[j])\n",
        "  rf_all_models.append(model)\n",
        "  # estimate the accuracy of each of them:\n",
        "rf_MSE = []\n",
        "for i in rf_all_models:\n",
        "  rf_MSE.append(modelEvaluator.evaluate(i.transform(testing_df)))"
      ],
      "execution_count": null,
      "outputs": [
        {
          "output_type": "stream",
          "text": [
            "Fitting model 1\n",
            "Fitting model 2\n",
            "Fitting model 3\n",
            "Fitting model 4\n",
            "Fitting model 5\n",
            "Fitting model 6\n",
            "Fitting model 7\n",
            "Fitting model 8\n",
            "Fitting model 9\n",
            "Fitting model 10\n",
            "Fitting model 11\n",
            "Fitting model 12\n"
          ],
          "name": "stdout"
        }
      ]
    },
    {
      "cell_type": "code",
      "metadata": {
        "id": "ciFlNljrv_II",
        "colab": {
          "base_uri": "https://localhost:8080/"
        },
        "outputId": "3b24cd22-ad53-496b-d627-c047b338fabd"
      },
      "source": [
        "rf_best_mse = min(rf_MSE)\n",
        "rf_best_mse_index = rf_MSE.index(rf_best_mse)\n",
        "print('Best mse:', rf_best_mse)\n",
        "print('The index:', rf_best_mse_index)"
      ],
      "execution_count": null,
      "outputs": [
        {
          "output_type": "stream",
          "text": [
            "Best mse: 0.5464796877258927\n",
            "The index: 7\n"
          ],
          "name": "stdout"
        }
      ]
    },
    {
      "cell_type": "code",
      "metadata": {
        "id": "3fWlJjfDwGOQ",
        "colab": {
          "base_uri": "https://localhost:8080/"
        },
        "outputId": "0ef277d4-08f5-4d5d-d36a-9276cc43f252"
      },
      "source": [
        "rf_param_dict = rf_all_models[rf_best_mse_index].stages[-1].extractParamMap()\n",
        "\n",
        "rf_sane_dict = {}\n",
        "for k, v in rf_param_dict.items():\n",
        "  rf_sane_dict[k.name] = v\n",
        "\n",
        "rf_numTrees_par = rf_sane_dict[\"numTrees\"]\n",
        "rf_maxDepth_par = rf_sane_dict[\"maxDepth\"]\n",
        "rf_impurity_par = rf_sane_dict[\"impurity\"]\n",
        "print('numTrees:',rf_numTrees_par,'\\nmaxDepth:',rf_maxDepth_par, '\\nimpurity:',rf_impurity_par)"
      ],
      "execution_count": null,
      "outputs": [
        {
          "output_type": "stream",
          "text": [
            "numTrees: 10 \n",
            "maxDepth: 10 \n",
            "impurity: entropy\n"
          ],
          "name": "stdout"
        }
      ]
    },
    {
      "cell_type": "code",
      "metadata": {
        "id": "9-wuXxYl6xuM"
      },
      "source": [
        "rf = RandomForestClassifier(labelCol='new_score', featuresCol='tfidf', predictionCol='prediction', \n",
        "                            numTrees=rf_numTrees_par, maxDepth=rf_maxDepth_par, impurity=rf_impurity_par)\n",
        "best_pipe = Pipeline(stages=[pipe2, idf, rf])"
      ],
      "execution_count": null,
      "outputs": []
    },
    {
      "cell_type": "code",
      "metadata": {
        "id": "xODnu4Ce7I_a"
      },
      "source": [
        "best_model = best_pipe.fit(training_df)\n",
        "best_pred = best_model.transform(testing_df)"
      ],
      "execution_count": null,
      "outputs": []
    },
    {
      "cell_type": "code",
      "metadata": {
        "id": "dJDrLTXA7LBE",
        "colab": {
          "base_uri": "https://localhost:8080/"
        },
        "outputId": "d2bd19f5-ae80-4c6e-8bb4-3b4da06f7825"
      },
      "source": [
        "rf_mse = round(modelEvaluator.evaluate(best_pred),2)\n",
        "print('The best MSE score is',rf_mse)"
      ],
      "execution_count": null,
      "outputs": [
        {
          "output_type": "stream",
          "text": [
            "The best MSE score is 0.55\n"
          ],
          "name": "stdout"
        }
      ]
    },
    {
      "cell_type": "code",
      "metadata": {
        "id": "yvFT-0Xo78Rr",
        "colab": {
          "base_uri": "https://localhost:8080/"
        },
        "outputId": "f7097c30-c969-47bf-e27e-be27359ed1e1"
      },
      "source": [
        "rf_model = best_model.stages[-1]\n",
        "rf_model.featureImportances"
      ],
      "execution_count": null,
      "outputs": [
        {
          "output_type": "execute_result",
          "data": {
            "text/plain": [
              "SparseVector(17290, {0: 0.0015, 2: 0.0002, 3: 0.0009, 4: 0.0082, 7: 0.0007, 8: 0.0075, 9: 0.0126, 10: 0.0075, 12: 0.0009, 15: 0.017, 16: 0.0007, 18: 0.0005, 20: 0.0013, 21: 0.0, 22: 0.006, 23: 0.0002, 25: 0.0, 30: 0.0602, 32: 0.0007, 33: 0.0021, 38: 0.0016, 40: 0.0005, 42: 0.0072, 44: 0.0002, 50: 0.0005, 53: 0.0008, 54: 0.0159, 55: 0.0285, 58: 0.0142, 60: 0.0007, 65: 0.0328, 67: 0.0005, 69: 0.0002, 71: 0.0673, 75: 0.0323, 77: 0.0, 79: 0.0472, 80: 0.0629, 83: 0.0061, 88: 0.0013, 93: 0.009, 95: 0.0003, 106: 0.0194, 111: 0.0001, 113: 0.0006, 129: 0.0003, 135: 0.0001, 150: 0.0045, 153: 0.0004, 155: 0.0002, 159: 0.0171, 160: 0.0001, 162: 0.0003, 176: 0.0049, 185: 0.0259, 189: 0.0001, 200: 0.0002, 201: 0.0, 205: 0.0011, 212: 0.0013, 213: 0.0108, 217: 0.0081, 218: 0.0001, 222: 0.0027, 227: 0.0005, 228: 0.0101, 230: 0.0022, 233: 0.0, 238: 0.0102, 243: 0.0008, 248: 0.0, 250: 0.0004, 252: 0.0005, 255: 0.0002, 257: 0.0437, 260: 0.0087, 262: 0.0003, 263: 0.0102, 268: 0.0001, 277: 0.0001, 294: 0.0053, 296: 0.0022, 311: 0.0013, 326: 0.001, 331: 0.0004, 332: 0.0061, 337: 0.0005, 338: 0.0002, 340: 0.0078, 348: 0.0003, 353: 0.0058, 355: 0.0017, 365: 0.0049, 376: 0.0023, 377: 0.0064, 388: 0.0044, 392: 0.0012, 401: 0.0002, 412: 0.0001, 423: 0.0006, 431: 0.0015, 432: 0.007, 434: 0.0015, 446: 0.0057, 447: 0.0045, 459: 0.0051, 490: 0.0003, 494: 0.0006, 496: 0.0004, 497: 0.0083, 499: 0.0008, 502: 0.0008, 505: 0.0042, 508: 0.0079, 522: 0.0004, 531: 0.0004, 533: 0.0006, 536: 0.0123, 540: 0.0097, 552: 0.0003, 556: 0.0, 561: 0.0034, 568: 0.0089, 571: 0.0003, 578: 0.0004, 583: 0.0059, 586: 0.0003, 587: 0.0031, 600: 0.0159, 601: 0.0004, 628: 0.0014, 632: 0.0003, 639: 0.0094, 642: 0.0072, 645: 0.0011, 651: 0.0002, 652: 0.0002, 660: 0.0008, 663: 0.0012, 664: 0.0011, 677: 0.0003, 690: 0.0001, 694: 0.0005, 702: 0.0062, 714: 0.0004, 716: 0.0015, 721: 0.0003, 731: 0.0011, 733: 0.0004, 764: 0.0018, 775: 0.0, 786: 0.0003, 800: 0.0011, 805: 0.005, 813: 0.0034, 846: 0.0042, 869: 0.0009, 872: 0.0004, 885: 0.0022, 890: 0.0027, 960: 0.001, 968: 0.0004, 1003: 0.0002, 1011: 0.0037, 1013: 0.0001, 1014: 0.0002, 1029: 0.0017, 1063: 0.0006, 1080: 0.0006, 1084: 0.0029, 1091: 0.0042, 1101: 0.0025, 1115: 0.0011, 1138: 0.0066, 1178: 0.0006, 1196: 0.0034, 1206: 0.0001, 1212: 0.0004, 1229: 0.0106, 1235: 0.001, 1241: 0.004, 1252: 0.0026, 1285: 0.0004, 1301: 0.0014, 1302: 0.0025, 1306: 0.0038, 1353: 0.0073, 1386: 0.0007, 1398: 0.0006, 1477: 0.0058, 1503: 0.0009, 1562: 0.004, 1566: 0.0004, 1642: 0.0013, 1648: 0.0009, 1669: 0.0003, 1694: 0.0004, 1771: 0.0009, 1796: 0.0043, 1837: 0.0012, 1858: 0.0037, 1954: 0.0003, 1966: 0.0045, 1970: 0.0004, 1973: 0.0017, 1999: 0.0, 2041: 0.0002, 2130: 0.0009, 2237: 0.0001, 2253: 0.0002, 2318: 0.0005, 2348: 0.0004, 2357: 0.0006, 2393: 0.0012, 2419: 0.0013, 2680: 0.0003, 2802: 0.0004, 2807: 0.0009, 2870: 0.001, 2895: 0.0, 3016: 0.0002, 3024: 0.0026, 3281: 0.001, 3295: 0.0003, 3300: 0.0003, 3467: 0.0022, 3491: 0.0006, 3507: 0.0008, 3694: 0.0005, 3785: 0.0003, 3953: 0.0, 4058: 0.0004, 4241: 0.0017, 4275: 0.0005, 4361: 0.0006, 4379: 0.0002, 4862: 0.0009, 4981: 0.0007, 5089: 0.0005, 5158: 0.0004, 5167: 0.0003, 5467: 0.0002, 5780: 0.0003, 5858: 0.0016, 5861: 0.0006, 5920: 0.0001, 6128: 0.0018, 6388: 0.002, 6557: 0.0005, 6602: 0.0011, 6811: 0.0, 7072: 0.0004, 7301: 0.0006, 7317: 0.001, 7402: 0.0, 7532: 0.0004, 8421: 0.0004, 8491: 0.0004, 8696: 0.0002, 10777: 0.0002, 11127: 0.0002, 12340: 0.0021, 13137: 0.0009, 15861: 0.0, 15914: 0.001, 15997: 0.0001, 16182: 0.0001})"
            ]
          },
          "metadata": {
            "tags": []
          },
          "execution_count": 42
        }
      ]
    },
    {
      "cell_type": "code",
      "metadata": {
        "id": "YbPBbYrBSa7W",
        "colab": {
          "base_uri": "https://localhost:8080/",
          "height": 221
        },
        "outputId": "92b2a58f-bc00-4f8a-dad2-b8418f444d86"
      },
      "source": [
        "vocabulary = best_model.stages[0].stages[-1].vocabulary\n",
        "importance = best_model.stages[-1].featureImportances\n",
        "print(\"num importance:\", len(importance))\n",
        " \n",
        "featureimportance_before_df_pd = pd.DataFrame({'word': vocabulary, 'importance': importance})\n",
        "featureimportance_before_df_pd.head()"
      ],
      "execution_count": null,
      "outputs": [
        {
          "output_type": "stream",
          "text": [
            "num importance: 17290\n"
          ],
          "name": "stdout"
        },
        {
          "output_type": "execute_result",
          "data": {
            "text/html": [
              "<div>\n",
              "<style scoped>\n",
              "    .dataframe tbody tr th:only-of-type {\n",
              "        vertical-align: middle;\n",
              "    }\n",
              "\n",
              "    .dataframe tbody tr th {\n",
              "        vertical-align: top;\n",
              "    }\n",
              "\n",
              "    .dataframe thead th {\n",
              "        text-align: right;\n",
              "    }\n",
              "</style>\n",
              "<table border=\"1\" class=\"dataframe\">\n",
              "  <thead>\n",
              "    <tr style=\"text-align: right;\">\n",
              "      <th></th>\n",
              "      <th>word</th>\n",
              "      <th>importance</th>\n",
              "    </tr>\n",
              "  </thead>\n",
              "  <tbody>\n",
              "    <tr>\n",
              "      <th>0</th>\n",
              "      <td>biden</td>\n",
              "      <td>0.001452</td>\n",
              "    </tr>\n",
              "    <tr>\n",
              "      <th>1</th>\n",
              "      <td>trump</td>\n",
              "      <td>0.000000</td>\n",
              "    </tr>\n",
              "    <tr>\n",
              "      <th>2</th>\n",
              "      <td>joe</td>\n",
              "      <td>0.000186</td>\n",
              "    </tr>\n",
              "    <tr>\n",
              "      <th>3</th>\n",
              "      <td>vote</td>\n",
              "      <td>0.000881</td>\n",
              "    </tr>\n",
              "    <tr>\n",
              "      <th>4</th>\n",
              "      <td>amp</td>\n",
              "      <td>0.008184</td>\n",
              "    </tr>\n",
              "  </tbody>\n",
              "</table>\n",
              "</div>"
            ],
            "text/plain": [
              "    word  importance\n",
              "0  biden    0.001452\n",
              "1  trump    0.000000\n",
              "2    joe    0.000186\n",
              "3   vote    0.000881\n",
              "4    amp    0.008184"
            ]
          },
          "metadata": {
            "tags": []
          },
          "execution_count": 44
        }
      ]
    },
    {
      "cell_type": "code",
      "metadata": {
        "id": "1SGSuEg3alwb"
      },
      "source": [
        "featureimportance_before_df_pd = featureimportance_before_df_pd.sort_values('importance')\n",
        "rf_before_df_neg = featureimportance_before_df_pd.head(10)"
      ],
      "execution_count": null,
      "outputs": []
    },
    {
      "cell_type": "code",
      "metadata": {
        "id": "4Bs0H8ZTaya3"
      },
      "source": [
        "featureimportance_before_df_pd = featureimportance_before_df_pd.sort_values('importance', ascending=False)\n",
        "rf_before_df_pos = featureimportance_before_df_pd.head(10)"
      ],
      "execution_count": null,
      "outputs": []
    },
    {
      "cell_type": "code",
      "metadata": {
        "id": "3_Y45wD3a6Gb",
        "colab": {
          "base_uri": "https://localhost:8080/",
          "height": 701
        },
        "outputId": "dfdaaad2-ca7e-49ab-8bbe-5cc2a5c1f6e5"
      },
      "source": [
        "display(rf_before_df_neg)\n",
        "display(rf_before_df_pos)"
      ],
      "execution_count": null,
      "outputs": [
        {
          "output_type": "display_data",
          "data": {
            "text/html": [
              "<div>\n",
              "<style scoped>\n",
              "    .dataframe tbody tr th:only-of-type {\n",
              "        vertical-align: middle;\n",
              "    }\n",
              "\n",
              "    .dataframe tbody tr th {\n",
              "        vertical-align: top;\n",
              "    }\n",
              "\n",
              "    .dataframe thead th {\n",
              "        text-align: right;\n",
              "    }\n",
              "</style>\n",
              "<table border=\"1\" class=\"dataframe\">\n",
              "  <thead>\n",
              "    <tr style=\"text-align: right;\">\n",
              "      <th></th>\n",
              "      <th>word</th>\n",
              "      <th>importance</th>\n",
              "    </tr>\n",
              "  </thead>\n",
              "  <tbody>\n",
              "    <tr>\n",
              "      <th>8644</th>\n",
              "      <td>instruction</td>\n",
              "      <td>0.0</td>\n",
              "    </tr>\n",
              "    <tr>\n",
              "      <th>11514</th>\n",
              "      <td>kellie</td>\n",
              "      <td>0.0</td>\n",
              "    </tr>\n",
              "    <tr>\n",
              "      <th>11515</th>\n",
              "      <td>successor</td>\n",
              "      <td>0.0</td>\n",
              "    </tr>\n",
              "    <tr>\n",
              "      <th>11516</th>\n",
              "      <td>ratified</td>\n",
              "      <td>0.0</td>\n",
              "    </tr>\n",
              "    <tr>\n",
              "      <th>11517</th>\n",
              "      <td>untraditional</td>\n",
              "      <td>0.0</td>\n",
              "    </tr>\n",
              "    <tr>\n",
              "      <th>11518</th>\n",
              "      <td>landlords</td>\n",
              "      <td>0.0</td>\n",
              "    </tr>\n",
              "    <tr>\n",
              "      <th>11519</th>\n",
              "      <td>arklamiss</td>\n",
              "      <td>0.0</td>\n",
              "    </tr>\n",
              "    <tr>\n",
              "      <th>11520</th>\n",
              "      <td>potheadjailed</td>\n",
              "      <td>0.0</td>\n",
              "    </tr>\n",
              "    <tr>\n",
              "      <th>11521</th>\n",
              "      <td>agreeable</td>\n",
              "      <td>0.0</td>\n",
              "    </tr>\n",
              "    <tr>\n",
              "      <th>11522</th>\n",
              "      <td>await</td>\n",
              "      <td>0.0</td>\n",
              "    </tr>\n",
              "  </tbody>\n",
              "</table>\n",
              "</div>"
            ],
            "text/plain": [
              "                word  importance\n",
              "8644     instruction         0.0\n",
              "11514         kellie         0.0\n",
              "11515      successor         0.0\n",
              "11516       ratified         0.0\n",
              "11517  untraditional         0.0\n",
              "11518      landlords         0.0\n",
              "11519      arklamiss         0.0\n",
              "11520  potheadjailed         0.0\n",
              "11521      agreeable         0.0\n",
              "11522          await         0.0"
            ]
          },
          "metadata": {
            "tags": []
          }
        },
        {
          "output_type": "display_data",
          "data": {
            "text/html": [
              "<div>\n",
              "<style scoped>\n",
              "    .dataframe tbody tr th:only-of-type {\n",
              "        vertical-align: middle;\n",
              "    }\n",
              "\n",
              "    .dataframe tbody tr th {\n",
              "        vertical-align: top;\n",
              "    }\n",
              "\n",
              "    .dataframe thead th {\n",
              "        text-align: right;\n",
              "    }\n",
              "</style>\n",
              "<table border=\"1\" class=\"dataframe\">\n",
              "  <thead>\n",
              "    <tr style=\"text-align: right;\">\n",
              "      <th></th>\n",
              "      <th>word</th>\n",
              "      <th>importance</th>\n",
              "    </tr>\n",
              "  </thead>\n",
              "  <tbody>\n",
              "    <tr>\n",
              "      <th>71</th>\n",
              "      <td>black</td>\n",
              "      <td>0.067261</td>\n",
              "    </tr>\n",
              "    <tr>\n",
              "      <th>80</th>\n",
              "      <td>live</td>\n",
              "      <td>0.062916</td>\n",
              "    </tr>\n",
              "    <tr>\n",
              "      <th>30</th>\n",
              "      <td>new</td>\n",
              "      <td>0.060247</td>\n",
              "    </tr>\n",
              "    <tr>\n",
              "      <th>79</th>\n",
              "      <td>love</td>\n",
              "      <td>0.047209</td>\n",
              "    </tr>\n",
              "    <tr>\n",
              "      <th>257</th>\n",
              "      <td>stupid</td>\n",
              "      <td>0.043715</td>\n",
              "    </tr>\n",
              "    <tr>\n",
              "      <th>65</th>\n",
              "      <td>rudy</td>\n",
              "      <td>0.032765</td>\n",
              "    </tr>\n",
              "    <tr>\n",
              "      <th>75</th>\n",
              "      <td>sure</td>\n",
              "      <td>0.032303</td>\n",
              "    </tr>\n",
              "    <tr>\n",
              "      <th>55</th>\n",
              "      <td>great</td>\n",
              "      <td>0.028517</td>\n",
              "    </tr>\n",
              "    <tr>\n",
              "      <th>185</th>\n",
              "      <td>shit</td>\n",
              "      <td>0.025925</td>\n",
              "    </tr>\n",
              "    <tr>\n",
              "      <th>106</th>\n",
              "      <td>important</td>\n",
              "      <td>0.019378</td>\n",
              "    </tr>\n",
              "  </tbody>\n",
              "</table>\n",
              "</div>"
            ],
            "text/plain": [
              "          word  importance\n",
              "71       black    0.067261\n",
              "80        live    0.062916\n",
              "30         new    0.060247\n",
              "79        love    0.047209\n",
              "257     stupid    0.043715\n",
              "65        rudy    0.032765\n",
              "75        sure    0.032303\n",
              "55       great    0.028517\n",
              "185       shit    0.025925\n",
              "106  important    0.019378"
            ]
          },
          "metadata": {
            "tags": []
          }
        }
      ]
    },
    {
      "cell_type": "markdown",
      "metadata": {
        "id": "mOGoaZ4KvpRR"
      },
      "source": [
        "### After"
      ]
    },
    {
      "cell_type": "code",
      "metadata": {
        "id": "sXSA818Na8_8",
        "colab": {
          "base_uri": "https://localhost:8080/"
        },
        "outputId": "0bfbc591-65c1-48f4-d99d-f37a40667e1e"
      },
      "source": [
        "after_final_1 = tweets_after\n",
        "after_final_1 = after_final_1.withColumn(\"score\",after_final_1[\"score\"].cast(IntegerType()))\n",
        "after_final_1 = after_final_1.withColumn(\"new_score\", when(after_final_1[\"score\"]==-1, 2).otherwise(after_final_1[\"score\"]))\n",
        "after_final_1.select('new_score').distinct().show()"
      ],
      "execution_count": null,
      "outputs": [
        {
          "output_type": "stream",
          "text": [
            "+---------+\n",
            "|new_score|\n",
            "+---------+\n",
            "|        1|\n",
            "|        2|\n",
            "|        0|\n",
            "+---------+\n",
            "\n"
          ],
          "name": "stdout"
        }
      ]
    },
    {
      "cell_type": "code",
      "metadata": {
        "id": "1DlNx7eRv0rn"
      },
      "source": [
        "training_df, testing_df = after_final_1.randomSplit([0.7, 0.3], seed=0)"
      ],
      "execution_count": null,
      "outputs": []
    },
    {
      "cell_type": "code",
      "metadata": {
        "id": "2ECtoCprv5fk"
      },
      "source": [
        "rf_after = RandomForestClassifier(labelCol='new_score', featuresCol='tfidf', predictionCol='prediction')\n",
        "pipe4 = Pipeline(stages=[tokenizer, sw_filter, cv]).fit(training_df)\n",
        "rf_pipe_after = Pipeline(stages=[pipe4, idf, rf])\n",
        "modelEvaluator = RegressionEvaluator(labelCol='new_score', metricName='mse', predictionCol='prediction')"
      ],
      "execution_count": null,
      "outputs": []
    },
    {
      "cell_type": "code",
      "metadata": {
        "id": "2I5877TSwDAQ",
        "colab": {
          "base_uri": "https://localhost:8080/"
        },
        "outputId": "a9d25dd0-af97-4dbc-9175-5bfbc252bbd0"
      },
      "source": [
        "grid = ParamGridBuilder().\\\n",
        "    addGrid(rf.numTrees, [5,10,15,20]).\\\n",
        "    addGrid(rf.maxDepth, [5,10]).\\\n",
        "    addGrid(rf.impurity, ['gini','entropy']).\\\n",
        "    build()\n",
        "rf_all_models_after = []\n",
        "for j in range(len(grid)):\n",
        "  print(\"Fitting model {}\".format(j+1))\n",
        "  model = rf_pipe_after.fit(training_df, grid[j])\n",
        "  rf_all_models_after.append(model)\n",
        "  # estimate the accuracy of each of them:\n",
        "rf_MSE_after = []\n",
        "for i in rf_all_models_after:\n",
        "  rf_MSE_after.append(modelEvaluator.evaluate(i.transform(testing_df)))"
      ],
      "execution_count": null,
      "outputs": [
        {
          "output_type": "stream",
          "text": [
            "Fitting model 1\n",
            "Fitting model 2\n",
            "Fitting model 3\n",
            "Fitting model 4\n",
            "Fitting model 5\n",
            "Fitting model 6\n",
            "Fitting model 7\n",
            "Fitting model 8\n",
            "Fitting model 9\n",
            "Fitting model 10\n",
            "Fitting model 11\n",
            "Fitting model 12\n",
            "Fitting model 13\n",
            "Fitting model 14\n",
            "Fitting model 15\n",
            "Fitting model 16\n"
          ],
          "name": "stdout"
        }
      ]
    },
    {
      "cell_type": "code",
      "metadata": {
        "id": "oDZFPNg2wIdi",
        "colab": {
          "base_uri": "https://localhost:8080/"
        },
        "outputId": "c0952549-66c6-4e22-a8db-bebffbad64d8"
      },
      "source": [
        "rf_best_mse_after = min(rf_MSE_after)\n",
        "rf_best_mse_index_after = rf_MSE_after.index(rf_best_mse_after)\n",
        "print('Best mse:', rf_best_mse_after)\n",
        "print('The index:', rf_best_mse_index_after)"
      ],
      "execution_count": null,
      "outputs": [
        {
          "output_type": "stream",
          "text": [
            "Best mse: 0.5441547518923465\n",
            "The index: 7\n"
          ],
          "name": "stdout"
        }
      ]
    },
    {
      "cell_type": "code",
      "metadata": {
        "id": "mmVXFJYmwhUe",
        "colab": {
          "base_uri": "https://localhost:8080/"
        },
        "outputId": "02020e5a-9f8f-41c8-9480-f8ff1ead7411"
      },
      "source": [
        "rf_param_dict_after = rf_all_models_after[rf_best_mse_index_after].stages[-1].extractParamMap()\n",
        "\n",
        "rf_sane_dict_after = {}\n",
        "for k, v in rf_param_dict_after.items():\n",
        "  rf_sane_dict_after[k.name] = v\n",
        "\n",
        "rf_numTrees_par_after = rf_sane_dict_after[\"numTrees\"]\n",
        "rf_maxDepth_par_after = rf_sane_dict_after[\"maxDepth\"]\n",
        "rf_impurity_par_after = rf_sane_dict_after[\"impurity\"]\n",
        "print('numTrees:',rf_numTrees_par_after,'\\nmaxDepth:',rf_maxDepth_par_after, '\\nimpurity:',rf_impurity_par_after)"
      ],
      "execution_count": null,
      "outputs": [
        {
          "output_type": "stream",
          "text": [
            "numTrees: 10 \n",
            "maxDepth: 10 \n",
            "impurity: entropy\n"
          ],
          "name": "stdout"
        }
      ]
    },
    {
      "cell_type": "code",
      "metadata": {
        "id": "tGHpkVLIwr8M"
      },
      "source": [
        "rf_after = RandomForestClassifier(labelCol='new_score', featuresCol='tfidf', predictionCol='prediction', \n",
        "                                  numTrees=rf_numTrees_par_after, maxDepth=rf_maxDepth_par_after, impurity=rf_impurity_par_after)\n",
        "best_pipe_after = Pipeline(stages=[pipe4, idf, rf])"
      ],
      "execution_count": null,
      "outputs": []
    },
    {
      "cell_type": "code",
      "metadata": {
        "id": "bvYoXq5Ww0eh"
      },
      "source": [
        "best_model_after = best_pipe_after.fit(training_df)\n",
        "best_pred_after = best_model_after.transform(testing_df)"
      ],
      "execution_count": null,
      "outputs": []
    },
    {
      "cell_type": "code",
      "metadata": {
        "id": "uqJV-L8-w5aL",
        "colab": {
          "base_uri": "https://localhost:8080/"
        },
        "outputId": "442452c5-4948-45a4-bd29-482c6fb2b451"
      },
      "source": [
        "rf_mse_after = round(modelEvaluator.evaluate(best_pred_after),2)\n",
        "print('The best MSE score is',rf_mse_after)"
      ],
      "execution_count": null,
      "outputs": [
        {
          "output_type": "stream",
          "text": [
            "The best MSE score is 0.54\n"
          ],
          "name": "stdout"
        }
      ]
    },
    {
      "cell_type": "code",
      "metadata": {
        "id": "_QhoAEIFw-Rw",
        "colab": {
          "base_uri": "https://localhost:8080/",
          "height": 221
        },
        "outputId": "69fc1cb6-6018-40ab-82b5-8685730bf514"
      },
      "source": [
        "vocabulary = best_model_after.stages[0].stages[-1].vocabulary\n",
        "importance = best_model_after.stages[-1].featureImportances\n",
        "print(\"num importance:\", len(importance))\n",
        " \n",
        "featureimportance_after_df_pd = pd.DataFrame({'word': vocabulary, 'importance': importance})\n",
        "featureimportance_after_df_pd.head()"
      ],
      "execution_count": null,
      "outputs": [
        {
          "output_type": "stream",
          "text": [
            "num importance: 14603\n"
          ],
          "name": "stdout"
        },
        {
          "output_type": "execute_result",
          "data": {
            "text/html": [
              "<div>\n",
              "<style scoped>\n",
              "    .dataframe tbody tr th:only-of-type {\n",
              "        vertical-align: middle;\n",
              "    }\n",
              "\n",
              "    .dataframe tbody tr th {\n",
              "        vertical-align: top;\n",
              "    }\n",
              "\n",
              "    .dataframe thead th {\n",
              "        text-align: right;\n",
              "    }\n",
              "</style>\n",
              "<table border=\"1\" class=\"dataframe\">\n",
              "  <thead>\n",
              "    <tr style=\"text-align: right;\">\n",
              "      <th></th>\n",
              "      <th>word</th>\n",
              "      <th>importance</th>\n",
              "    </tr>\n",
              "  </thead>\n",
              "  <tbody>\n",
              "    <tr>\n",
              "      <th>0</th>\n",
              "      <td>trump</td>\n",
              "      <td>0.001658</td>\n",
              "    </tr>\n",
              "    <tr>\n",
              "      <th>1</th>\n",
              "      <td>president</td>\n",
              "      <td>0.000000</td>\n",
              "    </tr>\n",
              "    <tr>\n",
              "      <th>2</th>\n",
              "      <td>election</td>\n",
              "      <td>0.003242</td>\n",
              "    </tr>\n",
              "    <tr>\n",
              "      <th>3</th>\n",
              "      <td>biden</td>\n",
              "      <td>0.000000</td>\n",
              "    </tr>\n",
              "    <tr>\n",
              "      <th>4</th>\n",
              "      <td>donald</td>\n",
              "      <td>0.001281</td>\n",
              "    </tr>\n",
              "  </tbody>\n",
              "</table>\n",
              "</div>"
            ],
            "text/plain": [
              "        word  importance\n",
              "0      trump    0.001658\n",
              "1  president    0.000000\n",
              "2   election    0.003242\n",
              "3      biden    0.000000\n",
              "4     donald    0.001281"
            ]
          },
          "metadata": {
            "tags": []
          },
          "execution_count": 75
        }
      ]
    },
    {
      "cell_type": "code",
      "metadata": {
        "id": "lgvTVw9A1xXl"
      },
      "source": [
        "featureimportance_after_df_pd = featureimportance_after_df_pd.sort_values('importance')\n",
        "rf_after_df_neg = featureimportance_after_df_pd.head(10)"
      ],
      "execution_count": null,
      "outputs": []
    },
    {
      "cell_type": "code",
      "metadata": {
        "id": "RZLEhLF511Ts"
      },
      "source": [
        "featureimportance_after_df_pd = featureimportance_after_df_pd.sort_values('importance', ascending=False)\n",
        "rf_after_df_pos = featureimportance_after_df_pd.head(10)"
      ],
      "execution_count": null,
      "outputs": []
    },
    {
      "cell_type": "code",
      "metadata": {
        "id": "PboReGv418VZ",
        "colab": {
          "base_uri": "https://localhost:8080/",
          "height": 701
        },
        "outputId": "8ebd6c92-665f-48cc-f985-6295d3242e55"
      },
      "source": [
        "display(rf_after_df_neg)\n",
        "display(rf_after_df_pos)"
      ],
      "execution_count": null,
      "outputs": [
        {
          "output_type": "display_data",
          "data": {
            "text/html": [
              "<div>\n",
              "<style scoped>\n",
              "    .dataframe tbody tr th:only-of-type {\n",
              "        vertical-align: middle;\n",
              "    }\n",
              "\n",
              "    .dataframe tbody tr th {\n",
              "        vertical-align: top;\n",
              "    }\n",
              "\n",
              "    .dataframe thead th {\n",
              "        text-align: right;\n",
              "    }\n",
              "</style>\n",
              "<table border=\"1\" class=\"dataframe\">\n",
              "  <thead>\n",
              "    <tr style=\"text-align: right;\">\n",
              "      <th></th>\n",
              "      <th>word</th>\n",
              "      <th>importance</th>\n",
              "    </tr>\n",
              "  </thead>\n",
              "  <tbody>\n",
              "    <tr>\n",
              "      <th>7301</th>\n",
              "      <td>sincerely</td>\n",
              "      <td>0.0</td>\n",
              "    </tr>\n",
              "    <tr>\n",
              "      <th>9721</th>\n",
              "      <td>opener</td>\n",
              "      <td>0.0</td>\n",
              "    </tr>\n",
              "    <tr>\n",
              "      <th>9722</th>\n",
              "      <td>eviscerated</td>\n",
              "      <td>0.0</td>\n",
              "    </tr>\n",
              "    <tr>\n",
              "      <th>9723</th>\n",
              "      <td>lecter</td>\n",
              "      <td>0.0</td>\n",
              "    </tr>\n",
              "    <tr>\n",
              "      <th>9724</th>\n",
              "      <td>divine</td>\n",
              "      <td>0.0</td>\n",
              "    </tr>\n",
              "    <tr>\n",
              "      <th>9725</th>\n",
              "      <td>612</td>\n",
              "      <td>0.0</td>\n",
              "    </tr>\n",
              "    <tr>\n",
              "      <th>9726</th>\n",
              "      <td>1965</td>\n",
              "      <td>0.0</td>\n",
              "    </tr>\n",
              "    <tr>\n",
              "      <th>9727</th>\n",
              "      <td>did”</td>\n",
              "      <td>0.0</td>\n",
              "    </tr>\n",
              "    <tr>\n",
              "      <th>9728</th>\n",
              "      <td>yro</td>\n",
              "      <td>0.0</td>\n",
              "    </tr>\n",
              "    <tr>\n",
              "      <th>9729</th>\n",
              "      <td>ribbon”</td>\n",
              "      <td>0.0</td>\n",
              "    </tr>\n",
              "  </tbody>\n",
              "</table>\n",
              "</div>"
            ],
            "text/plain": [
              "             word  importance\n",
              "7301    sincerely         0.0\n",
              "9721       opener         0.0\n",
              "9722  eviscerated         0.0\n",
              "9723       lecter         0.0\n",
              "9724       divine         0.0\n",
              "9725          612         0.0\n",
              "9726         1965         0.0\n",
              "9727         did”         0.0\n",
              "9728          yro         0.0\n",
              "9729      ribbon”         0.0"
            ]
          },
          "metadata": {
            "tags": []
          }
        },
        {
          "output_type": "display_data",
          "data": {
            "text/html": [
              "<div>\n",
              "<style scoped>\n",
              "    .dataframe tbody tr th:only-of-type {\n",
              "        vertical-align: middle;\n",
              "    }\n",
              "\n",
              "    .dataframe tbody tr th {\n",
              "        vertical-align: top;\n",
              "    }\n",
              "\n",
              "    .dataframe thead th {\n",
              "        text-align: right;\n",
              "    }\n",
              "</style>\n",
              "<table border=\"1\" class=\"dataframe\">\n",
              "  <thead>\n",
              "    <tr style=\"text-align: right;\">\n",
              "      <th></th>\n",
              "      <th>word</th>\n",
              "      <th>importance</th>\n",
              "    </tr>\n",
              "  </thead>\n",
              "  <tbody>\n",
              "    <tr>\n",
              "      <th>25</th>\n",
              "      <td>new</td>\n",
              "      <td>0.064686</td>\n",
              "    </tr>\n",
              "    <tr>\n",
              "      <th>75</th>\n",
              "      <td>sweet</td>\n",
              "      <td>0.053045</td>\n",
              "    </tr>\n",
              "    <tr>\n",
              "      <th>147</th>\n",
              "      <td>thanks</td>\n",
              "      <td>0.038509</td>\n",
              "    </tr>\n",
              "    <tr>\n",
              "      <th>110</th>\n",
              "      <td>legal</td>\n",
              "      <td>0.037724</td>\n",
              "    </tr>\n",
              "    <tr>\n",
              "      <th>171</th>\n",
              "      <td>fake</td>\n",
              "      <td>0.034461</td>\n",
              "    </tr>\n",
              "    <tr>\n",
              "      <th>23</th>\n",
              "      <td>win</td>\n",
              "      <td>0.032195</td>\n",
              "    </tr>\n",
              "    <tr>\n",
              "      <th>107</th>\n",
              "      <td>best</td>\n",
              "      <td>0.028448</td>\n",
              "    </tr>\n",
              "    <tr>\n",
              "      <th>218</th>\n",
              "      <td>hero</td>\n",
              "      <td>0.025640</td>\n",
              "    </tr>\n",
              "    <tr>\n",
              "      <th>146</th>\n",
              "      <td>dead</td>\n",
              "      <td>0.021989</td>\n",
              "    </tr>\n",
              "    <tr>\n",
              "      <th>252</th>\n",
              "      <td>magnificent</td>\n",
              "      <td>0.021148</td>\n",
              "    </tr>\n",
              "  </tbody>\n",
              "</table>\n",
              "</div>"
            ],
            "text/plain": [
              "            word  importance\n",
              "25           new    0.064686\n",
              "75         sweet    0.053045\n",
              "147       thanks    0.038509\n",
              "110        legal    0.037724\n",
              "171         fake    0.034461\n",
              "23           win    0.032195\n",
              "107         best    0.028448\n",
              "218         hero    0.025640\n",
              "146         dead    0.021989\n",
              "252  magnificent    0.021148"
            ]
          },
          "metadata": {
            "tags": []
          }
        }
      ]
    },
    {
      "cell_type": "code",
      "metadata": {
        "id": "ACq_b5zCEta7"
      },
      "source": [
        ""
      ],
      "execution_count": null,
      "outputs": []
    }
  ]
}