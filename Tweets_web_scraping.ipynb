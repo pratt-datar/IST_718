{
  "nbformat": 4,
  "nbformat_minor": 0,
  "metadata": {
    "colab": {
      "name": "Tweets web scraping.ipynb",
      "provenance": [],
      "collapsed_sections": []
    },
    "kernelspec": {
      "name": "python3",
      "display_name": "Python 3"
    }
  },
  "cells": [
    {
      "cell_type": "code",
      "metadata": {
        "id": "HyZcnZ_lG0oH",
        "outputId": "b261cced-5755-4031-ce18-f26d15a6da0f",
        "colab": {
          "base_uri": "https://localhost:8080/"
        }
      },
      "source": [
        "import json\n",
        "import os\n",
        "import tweepy\n",
        "import pandas as pd\n",
        "import re\n",
        "import string\n",
        "#import jupyterdash\n",
        "from bokeh.plotting import figure, curdoc\n",
        "from bokeh.layouts import column\n",
        "from textblob import TextBlob\n",
        "from nltk.corpus import stopwords\n",
        "import matplotlib.pyplot as plt\n",
        "from google.colab import drive\n",
        "drive.mount('/content/drive')\n",
        "!ls '/content/drive/My Drive/Colab Notebooks/credentials.json'\n",
        "credentials = '/content/drive/My Drive/Colab Notebooks/credentials.json'"
      ],
      "execution_count": null,
      "outputs": [
        {
          "output_type": "stream",
          "text": [
            "Mounted at /content/drive\n",
            "'/content/drive/My Drive/Colab Notebooks/credentials.json'\n"
          ],
          "name": "stdout"
        }
      ]
    },
    {
      "cell_type": "code",
      "metadata": {
        "id": "C84KiF44G9wA"
      },
      "source": [
        "import ssl\n",
        "#accessing credentials file to scrape twitter API\n",
        "with open(credentials) as cred_data:\n",
        "        info = json.load(cred_data)\n",
        "        consumer_key = info['CONSUMER_KEY']\n",
        "        consumer_secret = info['CONSUMER_SECRET']\n",
        "        access_key = info['ACCESS_KEY']\n",
        "        access_secret = info['ACCESS_SECRET']\n",
        "        #google_api = info['GOOGLE_API']\n",
        "auth = tweepy.OAuthHandler(consumer_key, consumer_secret)\n",
        "auth.set_access_token(access_key, access_secret)\n",
        "ssl._create_default_https_context = ssl._create_unverified_context\n",
        "api = tweepy.API(auth, wait_on_rate_limit=True)"
      ],
      "execution_count": null,
      "outputs": []
    },
    {
      "cell_type": "code",
      "metadata": {
        "id": "_uC3IsgWpZAf",
        "outputId": "0725f1f2-e7a2-4613-b84d-caf1fc3f6939",
        "colab": {
          "base_uri": "https://localhost:8080/",
          "height": 35
        }
      },
      "source": [
        "consumer_key"
      ],
      "execution_count": null,
      "outputs": [
        {
          "output_type": "execute_result",
          "data": {
            "application/vnd.google.colaboratory.intrinsic+json": {
              "type": "string"
            },
            "text/plain": [
              "'KbMyQosj5T97MVZ0LdW1P2b81'"
            ]
          },
          "metadata": {
            "tags": []
          },
          "execution_count": 4
        }
      ]
    },
    {
      "cell_type": "code",
      "metadata": {
        "id": "-BjFVIzkpcnA",
        "outputId": "ebc97424-c358-4bc3-92a0-aae26aff67ec",
        "colab": {
          "base_uri": "https://localhost:8080/",
          "height": 35
        }
      },
      "source": [
        "consumer_secret"
      ],
      "execution_count": null,
      "outputs": [
        {
          "output_type": "execute_result",
          "data": {
            "application/vnd.google.colaboratory.intrinsic+json": {
              "type": "string"
            },
            "text/plain": [
              "'9KIuabHmvQIgiq9PjwgjdS5z0yrHDo0dJfNGQTq3uRhRx9HPy7'"
            ]
          },
          "metadata": {
            "tags": []
          },
          "execution_count": 5
        }
      ]
    },
    {
      "cell_type": "code",
      "metadata": {
        "id": "ETbSGbOspfta",
        "outputId": "4f7d3b6d-dc8c-4e7f-96fb-2737ef16772d",
        "colab": {
          "base_uri": "https://localhost:8080/",
          "height": 35
        }
      },
      "source": [
        "access_key"
      ],
      "execution_count": null,
      "outputs": [
        {
          "output_type": "execute_result",
          "data": {
            "application/vnd.google.colaboratory.intrinsic+json": {
              "type": "string"
            },
            "text/plain": [
              "'786452312-hED2JJQEg9UKpFUj6vdNus445jPm8pJNcI5cGMpI'"
            ]
          },
          "metadata": {
            "tags": []
          },
          "execution_count": 6
        }
      ]
    },
    {
      "cell_type": "code",
      "metadata": {
        "id": "bcQprRmvpgP9",
        "outputId": "52b98062-5c8c-4b97-9b68-0693f7e15f73",
        "colab": {
          "base_uri": "https://localhost:8080/",
          "height": 35
        }
      },
      "source": [
        "access_secret"
      ],
      "execution_count": null,
      "outputs": [
        {
          "output_type": "execute_result",
          "data": {
            "application/vnd.google.colaboratory.intrinsic+json": {
              "type": "string"
            },
            "text/plain": [
              "'IfzxmcN6o143Kyyv0TjqB8QU939CXrkXPYxRvNke04K8h'"
            ]
          },
          "metadata": {
            "tags": []
          },
          "execution_count": 7
        }
      ]
    },
    {
      "cell_type": "code",
      "metadata": {
        "id": "LUJFQKlLHByx"
      },
      "source": [
        "search_words = [\"donald trump\"]\n",
        "search_words1 = [\"#DonaldTrump\"]\n",
        "search_words2 = [\"Donald Trump\"]\n",
        "search_words3 = [\"#donaldtrump\"]\n",
        "search_words4 = [\"#Trump\"]\n",
        "search_words5 = [\"#trump\"]\n",
        "search_words6 = [\"#trump2020\"]\n",
        "search_words7 = [\"#Trump2020\"]\n",
        "#############################\n",
        "search_words8 =[\"joe biden\"]\n",
        "search_words9 = [\"#JoeBiden\"]\n",
        "search_words10 = [\"#Biden\"]\n",
        "search_words11 = [\"#biden\"]\n",
        "search_words12 = [\"#biden2020\"]\n",
        "search_words13 = [\"#Biden2020\"]\n",
        "##############################\n",
        "search_words14 = [\"kamala harris\"]\n",
        "search_words15 = [\"#kamalaharris\"]\n",
        "search_words16 = [\"Kamala Harris\"]\n",
        "search_words17 = [\"#Harris\"]\n",
        "search_words18 = [\"#harris\"]\n",
        "search_words19 = [\"#harris2020\"]\n",
        "search_words20 = [\"#Harris2020\"]\n",
        "################################\n",
        "search_words21 = [\"MikePence\"]\n",
        "search_words22 = [\"#MikePence2020\"]\n",
        "search_words23 = [\"#Pence2020\"]\n",
        "search_words24 = [\"#pence2020\"]\n",
        "####################################\n",
        "search_words25 = [\"#election2020\",]\n",
        "search_words26 = [\"#USelection2020\"]\n",
        "search_words27 = ['#USelection']\n",
        "search_words29 = ['Debate2020']\n",
        "search_words30 = ['#Democracy2020']\n",
        "search_words32 = ['election2020']\n",
        "search_words33 = ['#TrumpCovid19']\n",
        "search_words34 = ['Debate2020']\n",
        "search_words35 = ['#Vote2020']\n",
        "date_since = '2020-11-07'"
      ],
      "execution_count": null,
      "outputs": []
    },
    {
      "cell_type": "code",
      "metadata": {
        "id": "snjahUIBHGM-"
      },
      "source": [
        "tweet_df = pd.DataFrame(columns=['user','id','location','date','favourites_count','text', 'retweet'])"
      ],
      "execution_count": null,
      "outputs": []
    },
    {
      "cell_type": "code",
      "metadata": {
        "id": "eWNhcf1sHH0t"
      },
      "source": [
        "tweets = tweepy.Cursor(api.search, q=search_words, since=date_since, lang = 'en', tweet_mode='extended').items(12000)\n",
        "for tweet_info in tweets:\n",
        "  user = tweet_info.user.screen_name\n",
        "  id = tweet_info.user.id\n",
        "  location = tweet_info.user.location\n",
        "  date = tweet_info.user.created_at\n",
        "  favourites_count = tweet_info.user.favourites_count\n",
        "  if 'retweeted_status' in dir(tweet_info):\n",
        "      fulltext = tweet_info.retweeted_status.full_text\n",
        "      retweet = 'True'\n",
        "  else:\n",
        "      fulltext = tweet_info.full_text\n",
        "      retweet = 'False'\n",
        "\n",
        "  \n",
        "  tweet_df = tweet_df.append({'user':user, 'id':id,'location':location, 'date':date, 'favourites_count':favourites_count, 'text':fulltext, 'retweet':retweet}, ignore_index=True)"
      ],
      "execution_count": null,
      "outputs": []
    },
    {
      "cell_type": "code",
      "metadata": {
        "id": "0NbUjlwzmvbe"
      },
      "source": [
        "tweet_df"
      ],
      "execution_count": null,
      "outputs": []
    },
    {
      "cell_type": "code",
      "metadata": {
        "id": "TnyV2mgsHJ2g"
      },
      "source": [
        "tweet_df.to_csv('tweet1.csv')"
      ],
      "execution_count": null,
      "outputs": []
    },
    {
      "cell_type": "code",
      "metadata": {
        "id": "iEiZv5CjYW4N"
      },
      "source": [
        ""
      ],
      "execution_count": null,
      "outputs": []
    }
  ]
}